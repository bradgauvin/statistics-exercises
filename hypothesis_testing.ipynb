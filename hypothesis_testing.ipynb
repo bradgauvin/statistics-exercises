{
 "cells": [
  {
   "cell_type": "markdown",
   "id": "3779f024",
   "metadata": {},
   "source": [
    "\n",
    "Ace Realty wants to determine whether the average time it takes to sell homes is different for its two offices. A sample of 40 sales from office #1 revealed a mean of 90 days and a standard deviation of 15 days. A sample of 50 sales from office #2 revealed a mean of 100 days and a standard deviation of 20 days. Use a .05 level of significance."
   ]
  },
  {
   "cell_type": "code",
   "execution_count": 31,
   "id": "d1ff5086",
   "metadata": {},
   "outputs": [
    {
     "ename": "ImportError",
     "evalue": "cannot import name 'get_db_url' from 'env' (/Users/bradleygauvin/codeup-data-science/statistics-exercises/env.py)",
     "output_type": "error",
     "traceback": [
      "\u001b[0;31m---------------------------------------------------------------------------\u001b[0m",
      "\u001b[0;31mImportError\u001b[0m                               Traceback (most recent call last)",
      "Input \u001b[0;32mIn [31]\u001b[0m, in \u001b[0;36m<cell line: 7>\u001b[0;34m()\u001b[0m\n\u001b[1;32m      5\u001b[0m \u001b[38;5;28;01mimport\u001b[39;00m \u001b[38;5;21;01mscipy\u001b[39;00m\u001b[38;5;21;01m.\u001b[39;00m\u001b[38;5;21;01mstats\u001b[39;00m \u001b[38;5;28;01mas\u001b[39;00m \u001b[38;5;21;01mstats\u001b[39;00m\n\u001b[1;32m      6\u001b[0m \u001b[38;5;28;01mimport\u001b[39;00m \u001b[38;5;21;01mseaborn\u001b[39;00m \u001b[38;5;28;01mas\u001b[39;00m \u001b[38;5;21;01msns\u001b[39;00m\n\u001b[0;32m----> 7\u001b[0m \u001b[38;5;28;01mfrom\u001b[39;00m \u001b[38;5;21;01menv\u001b[39;00m \u001b[38;5;28;01mimport\u001b[39;00m get_db_url\n\u001b[1;32m      8\u001b[0m np\u001b[38;5;241m.\u001b[39mrandom\u001b[38;5;241m.\u001b[39mseed(\u001b[38;5;241m123\u001b[39m)\n",
      "\u001b[0;31mImportError\u001b[0m: cannot import name 'get_db_url' from 'env' (/Users/bradleygauvin/codeup-data-science/statistics-exercises/env.py)"
     ]
    }
   ],
   "source": [
    "#env set up\n",
    "import matplotlib.pyplot as plt\n",
    "import numpy as np\n",
    "import pandas as pd\n",
    "import scipy.stats as stats\n",
    "import seaborn as sns\n",
    "from env import get_db_url\n",
    "np.random.seed(123)"
   ]
  },
  {
   "cell_type": "code",
   "execution_count": 21,
   "id": "58970c64",
   "metadata": {},
   "outputs": [],
   "source": [
    "n1 = 40\n",
    "mean1 = 90\n",
    "sd1 = 15\n",
    "n2 = 50\n",
    "mean2 = 100\n",
    "sd2 = 20\n",
    "α=0.05"
   ]
  },
  {
   "cell_type": "code",
   "execution_count": 11,
   "id": "71b5fb5a",
   "metadata": {},
   "outputs": [],
   "source": [
    "office1 = stats.norm(mean1,sd1).rvs(n1)"
   ]
  },
  {
   "cell_type": "code",
   "execution_count": 12,
   "id": "94116453",
   "metadata": {},
   "outputs": [
    {
     "data": {
      "text/plain": [
       "numpy.ndarray"
      ]
     },
     "execution_count": 12,
     "metadata": {},
     "output_type": "execute_result"
    }
   ],
   "source": [
    "type(office1)"
   ]
  },
  {
   "cell_type": "code",
   "execution_count": 13,
   "id": "e1e86160",
   "metadata": {},
   "outputs": [],
   "source": [
    "office2 = stats.norm(mean2,sd2).rvs(n2)"
   ]
  },
  {
   "cell_type": "code",
   "execution_count": 14,
   "id": "fcf0c1bc",
   "metadata": {},
   "outputs": [
    {
     "data": {
      "text/plain": [
       "<seaborn.axisgrid.FacetGrid at 0x14b427160>"
      ]
     },
     "execution_count": 14,
     "metadata": {},
     "output_type": "execute_result"
    },
    {
     "data": {
      "image/png": "[encoded data removed]",
      "text/plain": [
       "<Figure size 360x360 with 1 Axes>"
      ]
     },
     "metadata": {
      "needs_background": "light"
     },
     "output_type": "display_data"
    }
   ],
   "source": [
    "sns.displot(office1)"
   ]
  },
  {
   "cell_type": "code",
   "execution_count": 16,
   "id": "4ed9302e",
   "metadata": {},
   "outputs": [
    {
     "data": {
      "text/plain": [
       "<seaborn.axisgrid.FacetGrid at 0x14b26aaf0>"
      ]
     },
     "execution_count": 16,
     "metadata": {},
     "output_type": "execute_result"
    },
    {
     "data": {
      "image/png": "[encoded data removed]",
      "text/plain": [
       "<Figure size 360x360 with 1 Axes>"
      ]
     },
     "metadata": {
      "needs_background": "light"
     },
     "output_type": "display_data"
    }
   ],
   "source": [
    "sns.displot(office2)"
   ]
  },
  {
   "cell_type": "code",
   "execution_count": 17,
   "id": "e78800cc",
   "metadata": {},
   "outputs": [
    {
     "data": {
      "text/plain": [
       "197.85291241686463"
      ]
     },
     "execution_count": 17,
     "metadata": {},
     "output_type": "execute_result"
    }
   ],
   "source": [
    "office2.var()-office1.var()"
   ]
  },
  {
   "cell_type": "code",
   "execution_count": 19,
   "id": "6d955deb",
   "metadata": {},
   "outputs": [
    {
     "data": {
      "text/plain": [
       "(4.1153444488036595, 0.04551874813294119)"
      ]
     },
     "execution_count": 19,
     "metadata": {},
     "output_type": "execute_result"
    }
   ],
   "source": [
    "t_1,p_1=stats.levene(office1,office2)\n",
    "t_1,p_1"
   ]
  },
  {
   "cell_type": "code",
   "execution_count": 20,
   "id": "4861479e",
   "metadata": {},
   "outputs": [
    {
     "data": {
      "text/plain": [
       "(-3.2583006829737267, 0.001593825513361712)"
      ]
     },
     "execution_count": 20,
     "metadata": {},
     "output_type": "execute_result"
    }
   ],
   "source": [
    "t, p = stats.ttest_ind(office1, office2, equal_var = False)\n",
    "t, p"
   ]
  },
  {
   "cell_type": "code",
   "execution_count": 22,
   "id": "3b7ea8b4",
   "metadata": {},
   "outputs": [
    {
     "name": "stdout",
     "output_type": "stream",
     "text": [
      "Most likely: H_1\n"
     ]
    }
   ],
   "source": [
    "if p < α:\n",
    "    print(f'Most likely: H_1')\n",
    "else:\n",
    "    print(f'Most likely: H_O')"
   ]
  },
  {
   "cell_type": "code",
   "execution_count": 26,
   "id": "fa37528f",
   "metadata": {},
   "outputs": [
    {
     "data": {
      "text/plain": [
       "Ttest_indResult(statistic=-2.7091418459143854, pvalue=0.00811206270346016)"
      ]
     },
     "execution_count": 26,
     "metadata": {},
     "output_type": "execute_result"
    }
   ],
   "source": [
    "stats.ttest_ind_from_stats(mean1, sd1, n1,mean2, sd2,n2, equal_var = False)"
   ]
  },
  {
   "cell_type": "markdown",
   "id": "a20497b2",
   "metadata": {},
   "source": [
    "## 2 - Load the mpg dataset and use it to answer the following questions:"
   ]
  },
  {
   "cell_type": "code",
   "execution_count": 27,
   "id": "f955ddb7",
   "metadata": {},
   "outputs": [
    {
     "ename": "NameError",
     "evalue": "name 'data' is not defined",
     "output_type": "error",
     "traceback": [
      "\u001b[0;31m---------------------------------------------------------------------------\u001b[0m",
      "\u001b[0;31mNameError\u001b[0m                                 Traceback (most recent call last)",
      "Input \u001b[0;32mIn [27]\u001b[0m, in \u001b[0;36m<cell line: 1>\u001b[0;34m()\u001b[0m\n\u001b[0;32m----> 1\u001b[0m df\u001b[38;5;241m=\u001b[39m \u001b[43mdata\u001b[49m(\u001b[38;5;124m'\u001b[39m\u001b[38;5;124mmpg\u001b[39m\u001b[38;5;124m'\u001b[39m)\n",
      "\u001b[0;31mNameError\u001b[0m: name 'data' is not defined"
     ]
    }
   ],
   "source": [
    "df= data('mpg')"
   ]
  },
  {
   "cell_type": "code",
   "execution_count": null,
   "id": "bc7df343",
   "metadata": {},
   "outputs": [],
   "source": []
  }
 ],
 "metadata": {
  "kernelspec": {
   "display_name": "Python 3 (ipykernel)",
   "language": "python",
   "name": "python3"
  },
  "language_info": {
   "codemirror_mode": {
    "name": "ipython",
    "version": 3
   },
   "file_extension": ".py",
   "mimetype": "text/x-python",
   "name": "python",
   "nbconvert_exporter": "python",
   "pygments_lexer": "ipython3",
   "version": "3.9.12"
  }
 },
 "nbformat": 4,
 "nbformat_minor": 5
}
