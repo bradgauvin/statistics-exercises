{
 "cells": [
  {
   "cell_type": "markdown",
   "id": "92ce1f72",
   "metadata": {},
   "source": [
    "\n",
    "Ace Realty wants to determine whether the average time it takes to sell homes is different for its two offices. A sample of 40 sales from office #1 revealed a mean of 90 days and a standard deviation of 15 days. A sample of 50 sales from office #2 revealed a mean of 100 days and a standard deviation of 20 days. Use a .05 level of significance."
   ]
  },
  {
   "cell_type": "code",
   "execution_count": 10,
   "id": "03f54173",
   "metadata": {},
   "outputs": [],
   "source": [
    "#env set up\n",
    "import matplotlib.pyplot as plt\n",
    "import numpy as np\n",
    "import pandas as pd\n",
    "import scipy.stats as stats\n",
    "import seaborn as sns\n",
    "from env import host, user, password\n",
    "np.random.seed(123)\n",
    "\n",
    "def get_db_url(user,host,password,dbname):\n",
    "    url = f'mysql+pymysql://{user}:{password}@{host}/dbname'\n",
    "    return url "
   ]
  },
  {
   "cell_type": "code",
   "execution_count": null,
   "id": "358d1e09",
   "metadata": {},
   "outputs": [],
   "source": [
    "n1 = 40\n",
    "mean1 = 90\n",
    "sd1 = 15\n",
    "n2 = 50\n",
    "mean2 = 100\n",
    "sd2 = 20\n",
    "α=0.05"
   ]
  },
  {
   "cell_type": "code",
   "execution_count": null,
   "id": "9a004529",
   "metadata": {},
   "outputs": [],
   "source": [
    "office1 = stats.norm(mean1,sd1).rvs(n1)"
   ]
  },
  {
   "cell_type": "code",
   "execution_count": null,
   "id": "00d41b7a",
   "metadata": {},
   "outputs": [],
   "source": [
    "type(office1)"
   ]
  },
  {
   "cell_type": "code",
   "execution_count": null,
   "id": "b04ba4c6",
   "metadata": {},
   "outputs": [],
   "source": [
    "office2 = stats.norm(mean2,sd2).rvs(n2)"
   ]
  },
  {
   "cell_type": "code",
   "execution_count": null,
   "id": "0a0472e3",
   "metadata": {},
   "outputs": [],
   "source": [
    "sns.displot(office1)"
   ]
  },
  {
   "cell_type": "code",
   "execution_count": null,
   "id": "3db6dbed",
   "metadata": {},
   "outputs": [],
   "source": [
    "sns.displot(office2)"
   ]
  },
  {
   "cell_type": "code",
   "execution_count": null,
   "id": "00244932",
   "metadata": {},
   "outputs": [],
   "source": [
    "office2.var()-office1.var()"
   ]
  },
  {
   "cell_type": "code",
   "execution_count": null,
   "id": "b2753b0c",
   "metadata": {},
   "outputs": [],
   "source": [
    "t_1,p_1=stats.levene(office1,office2)\n",
    "t_1,p_1"
   ]
  },
  {
   "cell_type": "code",
   "execution_count": null,
   "id": "6125b02b",
   "metadata": {},
   "outputs": [],
   "source": [
    "t, p = stats.ttest_ind(office1, office2, equal_var = False)\n",
    "t, p"
   ]
  },
  {
   "cell_type": "code",
   "execution_count": null,
   "id": "0c8e8bda",
   "metadata": {},
   "outputs": [],
   "source": [
    "if p < α:\n",
    "    print(f'Most likely: H_1')\n",
    "else:\n",
    "    print(f'Most likely: H_O')"
   ]
  },
  {
   "cell_type": "code",
   "execution_count": null,
   "id": "0513b96c",
   "metadata": {},
   "outputs": [],
   "source": [
    "stats.ttest_ind_from_stats(mean1, sd1, n1,mean2, sd2,n2, equal_var = False)"
   ]
  },
  {
   "cell_type": "markdown",
   "id": "c945206e",
   "metadata": {},
   "source": [
    "## 2 - Load the mpg dataset and use it to answer the following questions:"
   ]
  },
  {
   "cell_type": "code",
   "execution_count": 14,
   "id": "beb744dd",
   "metadata": {},
   "outputs": [
    {
     "data": {
      "text/html": [
       "<div>\n",
       "<style scoped>\n",
       "    .dataframe tbody tr th:only-of-type {\n",
       "        vertical-align: middle;\n",
       "    }\n",
       "\n",
       "    .dataframe tbody tr th {\n",
       "        vertical-align: top;\n",
       "    }\n",
       "\n",
       "    .dataframe thead th {\n",
       "        text-align: right;\n",
       "    }\n",
       "</style>\n",
       "<table border=\"1\" class=\"dataframe\">\n",
       "  <thead>\n",
       "    <tr style=\"text-align: right;\">\n",
       "      <th></th>\n",
       "      <th>manufacturer</th>\n",
       "      <th>model</th>\n",
       "      <th>displ</th>\n",
       "      <th>year</th>\n",
       "      <th>cyl</th>\n",
       "      <th>trans</th>\n",
       "      <th>drv</th>\n",
       "      <th>cty</th>\n",
       "      <th>hwy</th>\n",
       "      <th>fl</th>\n",
       "      <th>class</th>\n",
       "    </tr>\n",
       "  </thead>\n",
       "  <tbody>\n",
       "    <tr>\n",
       "      <th>1</th>\n",
       "      <td>audi</td>\n",
       "      <td>a4</td>\n",
       "      <td>1.8</td>\n",
       "      <td>1999</td>\n",
       "      <td>4</td>\n",
       "      <td>auto(l5)</td>\n",
       "      <td>f</td>\n",
       "      <td>18</td>\n",
       "      <td>29</td>\n",
       "      <td>p</td>\n",
       "      <td>compact</td>\n",
       "    </tr>\n",
       "    <tr>\n",
       "      <th>2</th>\n",
       "      <td>audi</td>\n",
       "      <td>a4</td>\n",
       "      <td>1.8</td>\n",
       "      <td>1999</td>\n",
       "      <td>4</td>\n",
       "      <td>manual(m5)</td>\n",
       "      <td>f</td>\n",
       "      <td>21</td>\n",
       "      <td>29</td>\n",
       "      <td>p</td>\n",
       "      <td>compact</td>\n",
       "    </tr>\n",
       "    <tr>\n",
       "      <th>3</th>\n",
       "      <td>audi</td>\n",
       "      <td>a4</td>\n",
       "      <td>2.0</td>\n",
       "      <td>2008</td>\n",
       "      <td>4</td>\n",
       "      <td>manual(m6)</td>\n",
       "      <td>f</td>\n",
       "      <td>20</td>\n",
       "      <td>31</td>\n",
       "      <td>p</td>\n",
       "      <td>compact</td>\n",
       "    </tr>\n",
       "    <tr>\n",
       "      <th>4</th>\n",
       "      <td>audi</td>\n",
       "      <td>a4</td>\n",
       "      <td>2.0</td>\n",
       "      <td>2008</td>\n",
       "      <td>4</td>\n",
       "      <td>auto(av)</td>\n",
       "      <td>f</td>\n",
       "      <td>21</td>\n",
       "      <td>30</td>\n",
       "      <td>p</td>\n",
       "      <td>compact</td>\n",
       "    </tr>\n",
       "    <tr>\n",
       "      <th>5</th>\n",
       "      <td>audi</td>\n",
       "      <td>a4</td>\n",
       "      <td>2.8</td>\n",
       "      <td>1999</td>\n",
       "      <td>6</td>\n",
       "      <td>auto(l5)</td>\n",
       "      <td>f</td>\n",
       "      <td>16</td>\n",
       "      <td>26</td>\n",
       "      <td>p</td>\n",
       "      <td>compact</td>\n",
       "    </tr>\n",
       "  </tbody>\n",
       "</table>\n",
       "</div>"
      ],
      "text/plain": [
       "  manufacturer model  displ  year  cyl       trans drv  cty  hwy fl    class\n",
       "1         audi    a4    1.8  1999    4    auto(l5)   f   18   29  p  compact\n",
       "2         audi    a4    1.8  1999    4  manual(m5)   f   21   29  p  compact\n",
       "3         audi    a4    2.0  2008    4  manual(m6)   f   20   31  p  compact\n",
       "4         audi    a4    2.0  2008    4    auto(av)   f   21   30  p  compact\n",
       "5         audi    a4    2.8  1999    6    auto(l5)   f   16   26  p  compact"
      ]
     },
     "execution_count": 14,
     "metadata": {},
     "output_type": "execute_result"
    }
   ],
   "source": [
    "from pydataset import data\n",
    "mpg = data('mpg')\n",
    "mpg.head()"
   ]
  },
  {
   "cell_type": "code",
   "execution_count": 15,
   "id": "e185d6ef",
   "metadata": {},
   "outputs": [
    {
     "name": "stdout",
     "output_type": "stream",
     "text": [
      "<class 'pandas.core.frame.DataFrame'>\n",
      "Int64Index: 234 entries, 1 to 234\n",
      "Data columns (total 11 columns):\n",
      " #   Column        Non-Null Count  Dtype  \n",
      "---  ------        --------------  -----  \n",
      " 0   manufacturer  234 non-null    object \n",
      " 1   model         234 non-null    object \n",
      " 2   displ         234 non-null    float64\n",
      " 3   year          234 non-null    int64  \n",
      " 4   cyl           234 non-null    int64  \n",
      " 5   trans         234 non-null    object \n",
      " 6   drv           234 non-null    object \n",
      " 7   cty           234 non-null    int64  \n",
      " 8   hwy           234 non-null    int64  \n",
      " 9   fl            234 non-null    object \n",
      " 10  class         234 non-null    object \n",
      "dtypes: float64(1), int64(4), object(6)\n",
      "memory usage: 21.9+ KB\n"
     ]
    }
   ],
   "source": [
    "# Is there a difference in fuel-efficiency in cars from 2008 vs 1999?\n",
    "# Ho = there is no difference in fuel-efficiency in cars from 2008 vs 1999\n",
    "# Ha = there is a difference in fuel-efficiency in cars from 2008 vs 1999\n",
    "mpg.info()"
   ]
  },
  {
   "cell_type": "code",
   "execution_count": 22,
   "id": "6837e66b",
   "metadata": {},
   "outputs": [
    {
     "name": "stdout",
     "output_type": "stream",
     "text": [
      "<class 'pandas.core.frame.DataFrame'>\n",
      "Int64Index: 234 entries, 1 to 234\n",
      "Data columns (total 12 columns):\n",
      " #   Column        Non-Null Count  Dtype  \n",
      "---  ------        --------------  -----  \n",
      " 0   manufacturer  234 non-null    object \n",
      " 1   model         234 non-null    object \n",
      " 2   displ         234 non-null    float64\n",
      " 3   year          234 non-null    int64  \n",
      " 4   cyl           234 non-null    int64  \n",
      " 5   trans         234 non-null    object \n",
      " 6   drv           234 non-null    object \n",
      " 7   cty           234 non-null    int64  \n",
      " 8   hwy           234 non-null    int64  \n",
      " 9   fl            234 non-null    object \n",
      " 10  class         234 non-null    object \n",
      " 11  total_mpg     234 non-null    float64\n",
      "dtypes: float64(2), int64(4), object(6)\n",
      "memory usage: 23.8+ KB\n"
     ]
    },
    {
     "data": {
      "text/plain": [
       "<AxesSubplot:>"
      ]
     },
     "execution_count": 22,
     "metadata": {},
     "output_type": "execute_result"
    },
    {
     "data": {
      "image/png": "[encoded data removed]",
      "text/plain": [
       "<Figure size 432x288 with 1 Axes>"
      ]
     },
     "metadata": {
      "needs_background": "light"
     },
     "output_type": "display_data"
    }
   ],
   "source": [
    "mpg['total_mpg'] = (mpg.cty + mpg.hwy) / 2\n",
    "mpg.info()\n",
    "mpg.cty.hist()\n"
   ]
  },
  {
   "cell_type": "code",
   "execution_count": 23,
   "id": "376feb93",
   "metadata": {},
   "outputs": [
    {
     "data": {
      "text/plain": [
       "<AxesSubplot:>"
      ]
     },
     "execution_count": 23,
     "metadata": {},
     "output_type": "execute_result"
    },
    {
     "data": {
      "image/png": "[encoded data removed]",
      "text/plain": [
       "<Figure size 432x288 with 1 Axes>"
      ]
     },
     "metadata": {
      "needs_background": "light"
     },
     "output_type": "display_data"
    }
   ],
   "source": [
    "mpg.hwy.hist()\n"
   ]
  },
  {
   "cell_type": "code",
   "execution_count": 31,
   "id": "71dd0a07",
   "metadata": {},
   "outputs": [
    {
     "data": {
      "text/plain": [
       "<AxesSubplot:>"
      ]
     },
     "execution_count": 31,
     "metadata": {},
     "output_type": "execute_result"
    },
    {
     "data": {
      "image/png": "[encoded data removed]",
      "text/plain": [
       "<Figure size 432x288 with 1 Axes>"
      ]
     },
     "metadata": {
      "needs_background": "light"
     },
     "output_type": "display_data"
    }
   ],
   "source": [
    "mpg.total_mpg.hist()"
   ]
  },
  {
   "cell_type": "code",
   "execution_count": 32,
   "id": "3d5f9889",
   "metadata": {},
   "outputs": [],
   "source": [
    "h2008 = mpg[mpg.year ==2008].hwy\n",
    "h1999 = mpg[mpg.year ==1999].cty\n",
    "c2008 = mpg[mpg.year ==2008].hwy\n",
    "c1999 = mpg[mpg.year ==1999].cty\n",
    "t2008 = mpg[mpg.year ==2008].total_mpg\n",
    "t1999 = mpg[mpg.year ==1999].total_mpg\n",
    "α=0.05"
   ]
  },
  {
   "cell_type": "code",
   "execution_count": 62,
   "id": "8d8621c8",
   "metadata": {},
   "outputs": [
    {
     "data": {
      "text/plain": [
       "(9.466618497423587, 5.10782454698565e-18)"
      ]
     },
     "execution_count": 62,
     "metadata": {},
     "output_type": "execute_result"
    }
   ],
   "source": [
    "t, p = stats.ttest_ind(h2008, h1999, equal_var = False)\n",
    "t, p "
   ]
  },
  {
   "cell_type": "code",
   "execution_count": 36,
   "id": "70a31ef0",
   "metadata": {},
   "outputs": [
    {
     "name": "stdout",
     "output_type": "stream",
     "text": [
      "We reject the null hypothesis\n"
     ]
    }
   ],
   "source": [
    "if (p/2 < α) & (t > 0):\n",
    "    print(\"We reject the null hypothesis\")\n",
    "else:\n",
    "    print(\"We fail to reject the null hypothesis\")"
   ]
  },
  {
   "cell_type": "code",
   "execution_count": 61,
   "id": "553cfbd6",
   "metadata": {},
   "outputs": [
    {
     "data": {
      "text/plain": [
       "(9.466618497423585, 3.4421244174046716e-18)"
      ]
     },
     "execution_count": 61,
     "metadata": {},
     "output_type": "execute_result"
    }
   ],
   "source": [
    "t, p = stats.ttest_ind(c2008, c1999, equal_var = True)\n",
    "t, p "
   ]
  },
  {
   "cell_type": "code",
   "execution_count": 39,
   "id": "51d73817",
   "metadata": {},
   "outputs": [
    {
     "name": "stdout",
     "output_type": "stream",
     "text": [
      "We reject the null hypothesis\n"
     ]
    }
   ],
   "source": [
    "if (p/2 < α) & (t > 0):\n",
    "    print(\"We reject the null hypothesis\")\n",
    "else:\n",
    "    print(\"We fail to reject the null hypothesis\")"
   ]
  },
  {
   "cell_type": "code",
   "execution_count": 60,
   "id": "02f2e852",
   "metadata": {},
   "outputs": [
    {
     "data": {
      "text/plain": [
       "(-0.21960177245940962, 0.8263750772060638)"
      ]
     },
     "execution_count": 60,
     "metadata": {},
     "output_type": "execute_result"
    }
   ],
   "source": [
    "t, p = stats.ttest_ind(t2008, t1999, equal_var = False)\n",
    "t, p"
   ]
  },
  {
   "cell_type": "code",
   "execution_count": 43,
   "id": "5196365f",
   "metadata": {},
   "outputs": [
    {
     "name": "stdout",
     "output_type": "stream",
     "text": [
      "We fail to reject the null hypothesis\n"
     ]
    }
   ],
   "source": [
    "if (p/2 < α) & (t > 0):\n",
    "    print(\"We reject the null hypothesis\")\n",
    "else:\n",
    "    print(\"We fail to reject the null hypothesis\")"
   ]
  },
  {
   "cell_type": "markdown",
   "id": "c5677de9",
   "metadata": {},
   "source": [
    "### Are compact cars more fuel-efficient than the average car?"
   ]
  },
  {
   "cell_type": "code",
   "execution_count": 57,
   "id": "597a1b4d",
   "metadata": {},
   "outputs": [
    {
     "data": {
      "text/plain": [
       "suv           62\n",
       "compact       47\n",
       "midsize       41\n",
       "subcompact    35\n",
       "pickup        33\n",
       "minivan       11\n",
       "2seater        5\n",
       "Name: class, dtype: int64"
      ]
     },
     "execution_count": 57,
     "metadata": {},
     "output_type": "execute_result"
    }
   ],
   "source": [
    "#Ho compact cars are not more fuel-efficient than average car.\n",
    "#Ha - compact cars are more fuel-efficient than aveage car\n",
    "mpg['class'].value_counts()"
   ]
  },
  {
   "cell_type": "code",
   "execution_count": 70,
   "id": "aa3547ae",
   "metadata": {},
   "outputs": [],
   "source": [
    "compact_t = mpg[mpg['class']=='compact'].total_mpg\n",
    "compact_h = mpg[mpg['class']=='compact'].hwy\n",
    "compact_c = mpg[mpg['class']=='compact'].cty"
   ]
  },
  {
   "cell_type": "code",
   "execution_count": 73,
   "id": "ff7b1cdc",
   "metadata": {},
   "outputs": [
    {
     "data": {
      "text/plain": [
       "(<seaborn.axisgrid.FacetGrid at 0x13fcee070>,\n",
       " <seaborn.axisgrid.FacetGrid at 0x13bf21fd0>,\n",
       " <seaborn.axisgrid.FacetGrid at 0x159e3f130>)"
      ]
     },
     "execution_count": 73,
     "metadata": {},
     "output_type": "execute_result"
    },
    {
     "data": {
      "image/png": "[encoded data removed]",
      "text/plain": [
       "<Figure size 360x360 with 1 Axes>"
      ]
     },
     "metadata": {
      "needs_background": "light"
     },
     "output_type": "display_data"
    },
    {
     "data": {
      "image/png": "[encoded data removed]",
      "text/plain": [
       "<Figure size 360x360 with 1 Axes>"
      ]
     },
     "metadata": {
      "needs_background": "light"
     },
     "output_type": "display_data"
    },
    {
     "data": {
      "image/png": "[encoded data removed]",
      "text/plain": [
       "<Figure size 360x360 with 1 Axes>"
      ]
     },
     "metadata": {
      "needs_background": "light"
     },
     "output_type": "display_data"
    }
   ],
   "source": [
    "sns.displot(compact_t), sns.displot(compact_h), sns.displot(compact_c)"
   ]
  },
  {
   "cell_type": "code",
   "execution_count": 74,
   "id": "3011dcc0",
   "metadata": {},
   "outputs": [
    {
     "data": {
      "text/plain": [
       "(7.896888573132535, 4.1985637943171186e-10)"
      ]
     },
     "execution_count": 74,
     "metadata": {},
     "output_type": "execute_result"
    }
   ],
   "source": [
    "t,p=stats.ttest_1samp(compact_t,mpg.total_mpg.mean())\n",
    "t,p"
   ]
  },
  {
   "cell_type": "code",
   "execution_count": 75,
   "id": "3c1143af",
   "metadata": {},
   "outputs": [
    {
     "name": "stdout",
     "output_type": "stream",
     "text": [
      "We fail to reject the null hypothesis\n"
     ]
    }
   ],
   "source": [
    "if p/2 > α:\n",
    "    print(\"We reject the null hypothesis\")\n",
    "elif t < 0 :\n",
    "    print(\"We reject the null hypothesis for t-value\")\n",
    "else: \n",
    "    print(\"We fail to reject the null hypothesis\")"
   ]
  },
  {
   "cell_type": "code",
   "execution_count": 76,
   "id": "fa881254",
   "metadata": {},
   "outputs": [
    {
     "name": "stdout",
     "output_type": "stream",
     "text": [
      "We fail to reject the null hypothesis\n"
     ]
    }
   ],
   "source": [
    "t,p=stats.ttest_1samp(compact_h,mpg.total_mpg.mean())\n",
    "t,p\n",
    "if p/2 > α:\n",
    "    print(\"We reject the null hypothesis\")\n",
    "elif t < 0 :\n",
    "    print(\"We reject the null hypothesis for t-value\")\n",
    "else: \n",
    "    print(\"We fail to reject the null hypothesis\")"
   ]
  },
  {
   "cell_type": "code",
   "execution_count": 77,
   "id": "a5348a28",
   "metadata": {},
   "outputs": [
    {
     "name": "stdout",
     "output_type": "stream",
     "text": [
      "We reject the null hypothesis\n"
     ]
    }
   ],
   "source": [
    "t,p=stats.ttest_1samp(compact_c,mpg.total_mpg.mean())\n",
    "t,p\n",
    "if p/2 > α:\n",
    "    print(\"We reject the null hypothesis\")\n",
    "elif t < 0 :\n",
    "    print(\"We reject the null hypothesis for t-value\")\n",
    "else: \n",
    "    print(\"We fail to reject the null hypothesis\")"
   ]
  },
  {
   "cell_type": "markdown",
   "id": "b9d8b7d2",
   "metadata": {},
   "source": [
    "### Do manual cars get better gas mileage than automatic cars?"
   ]
  },
  {
   "cell_type": "code",
   "execution_count": 82,
   "id": "43213d4e",
   "metadata": {},
   "outputs": [
    {
     "data": {
      "text/plain": [
       "auto(l4)      83\n",
       "manual(m5)    58\n",
       "auto(l5)      39\n",
       "manual(m6)    19\n",
       "auto(s6)      16\n",
       "auto(l6)       6\n",
       "auto(av)       5\n",
       "auto(s5)       3\n",
       "auto(s4)       3\n",
       "auto(l3)       2\n",
       "Name: trans, dtype: int64"
      ]
     },
     "execution_count": 82,
     "metadata": {},
     "output_type": "execute_result"
    }
   ],
   "source": [
    "# Ho - manual caras get the same milage than automatic cars\n",
    "# Ha - manual cars do get better gas mileage than authomatic cars\n",
    "mpg['trans'].value_counts()"
   ]
  },
  {
   "cell_type": "code",
   "execution_count": 86,
   "id": "54001d96",
   "metadata": {},
   "outputs": [
    {
     "data": {
      "text/plain": [
       "157"
      ]
     },
     "execution_count": 86,
     "metadata": {},
     "output_type": "execute_result"
    }
   ],
   "source": [
    "manuals = mpg[mpg['trans'].astype(str).str[0] =='m'].total_mpg\n",
    "auto  = mpg[mpg['trans'].astype(str).str[0] =='a'].total_mpg\n",
    "auto.count()"
   ]
  },
  {
   "cell_type": "code",
   "execution_count": 87,
   "id": "998d6eb1",
   "metadata": {},
   "outputs": [
    {
     "data": {
      "text/plain": [
       "77"
      ]
     },
     "execution_count": 87,
     "metadata": {},
     "output_type": "execute_result"
    }
   ],
   "source": [
    "manuals.count()"
   ]
  },
  {
   "cell_type": "code",
   "execution_count": 88,
   "id": "d6737aee",
   "metadata": {},
   "outputs": [
    {
     "data": {
      "text/plain": [
       "(<seaborn.axisgrid.FacetGrid at 0x159fc2fa0>,\n",
       " <seaborn.axisgrid.FacetGrid at 0x158966760>)"
      ]
     },
     "execution_count": 88,
     "metadata": {},
     "output_type": "execute_result"
    },
    {
     "data": {
      "image/png": "[encoded data removed]",
      "text/plain": [
       "<Figure size 360x360 with 1 Axes>"
      ]
     },
     "metadata": {
      "needs_background": "light"
     },
     "output_type": "display_data"
    },
    {
     "data": {
      "image/png": "[encoded data removed]",
      "text/plain": [
       "<Figure size 360x360 with 1 Axes>"
      ]
     },
     "metadata": {
      "needs_background": "light"
     },
     "output_type": "display_data"
    }
   ],
   "source": [
    "sns.displot(manuals), sns.displot(auto)"
   ]
  },
  {
   "cell_type": "code",
   "execution_count": 89,
   "id": "af3b2090",
   "metadata": {},
   "outputs": [
    {
     "data": {
      "text/plain": [
       "(26.635167464114826, 21.942777233382337)"
      ]
     },
     "execution_count": 89,
     "metadata": {},
     "output_type": "execute_result"
    }
   ],
   "source": [
    "manuals.var(), auto.var()"
   ]
  },
  {
   "cell_type": "code",
   "execution_count": 90,
   "id": "0e742a48",
   "metadata": {},
   "outputs": [
    {
     "data": {
      "text/plain": [
       "LeveneResult(statistic=0.20075824847529639, pvalue=0.6545276355131857)"
      ]
     },
     "execution_count": 90,
     "metadata": {},
     "output_type": "execute_result"
    }
   ],
   "source": [
    "stats.levene(manuals, auto)"
   ]
  },
  {
   "cell_type": "code",
   "execution_count": 91,
   "id": "0f825e0e",
   "metadata": {},
   "outputs": [
    {
     "data": {
      "text/plain": [
       "Ttest_indResult(statistic=4.593437735750014, pvalue=7.154374401145685e-06)"
      ]
     },
     "execution_count": 91,
     "metadata": {},
     "output_type": "execute_result"
    }
   ],
   "source": [
    "stats.ttest_ind(manuals, auto)"
   ]
  },
  {
   "cell_type": "code",
   "execution_count": 92,
   "id": "5c918f7c",
   "metadata": {},
   "outputs": [
    {
     "name": "stdout",
     "output_type": "stream",
     "text": [
      "We reject the null hypothesis\n"
     ]
    }
   ],
   "source": [
    "if p/2 > α:\n",
    "    print(\"We reject the null hypothesis\")\n",
    "elif t < 0 :\n",
    "    print(\"We reject the null hypothesis for t-value\")\n",
    "else: \n",
    "    print(\"We fail to reject the null hypothesis\")"
   ]
  },
  {
   "cell_type": "markdown",
   "id": "7e5754b9",
   "metadata": {},
   "source": [
    "## Correlation Exercises"
   ]
  },
  {
   "cell_type": "markdown",
   "id": "b8aea21e",
   "metadata": {},
   "source": [
    "### Use the telco_churn data. Does tenure correlate with monthly charges? Total charges? What happens if you control for phone and internet service?"
   ]
  },
  {
   "cell_type": "code",
   "execution_count": 93,
   "id": "da0cab3c",
   "metadata": {},
   "outputs": [
    {
     "data": {
      "text/html": [
       "<div>\n",
       "<style scoped>\n",
       "    .dataframe tbody tr th:only-of-type {\n",
       "        vertical-align: middle;\n",
       "    }\n",
       "\n",
       "    .dataframe tbody tr th {\n",
       "        vertical-align: top;\n",
       "    }\n",
       "\n",
       "    .dataframe thead th {\n",
       "        text-align: right;\n",
       "    }\n",
       "</style>\n",
       "<table border=\"1\" class=\"dataframe\">\n",
       "  <thead>\n",
       "    <tr style=\"text-align: right;\">\n",
       "      <th></th>\n",
       "      <th>customerID</th>\n",
       "      <th>gender</th>\n",
       "      <th>SeniorCitizen</th>\n",
       "      <th>Partner</th>\n",
       "      <th>Dependents</th>\n",
       "      <th>tenure</th>\n",
       "      <th>PhoneService</th>\n",
       "      <th>MultipleLines</th>\n",
       "      <th>InternetService</th>\n",
       "      <th>OnlineSecurity</th>\n",
       "      <th>...</th>\n",
       "      <th>DeviceProtection</th>\n",
       "      <th>TechSupport</th>\n",
       "      <th>StreamingTV</th>\n",
       "      <th>StreamingMovies</th>\n",
       "      <th>Contract</th>\n",
       "      <th>PaperlessBilling</th>\n",
       "      <th>PaymentMethod</th>\n",
       "      <th>MonthlyCharges</th>\n",
       "      <th>TotalCharges</th>\n",
       "      <th>Churn</th>\n",
       "    </tr>\n",
       "  </thead>\n",
       "  <tbody>\n",
       "    <tr>\n",
       "      <th>0</th>\n",
       "      <td>7590-VHVEG</td>\n",
       "      <td>Female</td>\n",
       "      <td>0</td>\n",
       "      <td>Yes</td>\n",
       "      <td>No</td>\n",
       "      <td>1</td>\n",
       "      <td>No</td>\n",
       "      <td>No phone service</td>\n",
       "      <td>DSL</td>\n",
       "      <td>No</td>\n",
       "      <td>...</td>\n",
       "      <td>No</td>\n",
       "      <td>No</td>\n",
       "      <td>No</td>\n",
       "      <td>No</td>\n",
       "      <td>Month-to-month</td>\n",
       "      <td>Yes</td>\n",
       "      <td>Electronic check</td>\n",
       "      <td>29.85</td>\n",
       "      <td>29.85</td>\n",
       "      <td>No</td>\n",
       "    </tr>\n",
       "    <tr>\n",
       "      <th>1</th>\n",
       "      <td>5575-GNVDE</td>\n",
       "      <td>Male</td>\n",
       "      <td>0</td>\n",
       "      <td>No</td>\n",
       "      <td>No</td>\n",
       "      <td>34</td>\n",
       "      <td>Yes</td>\n",
       "      <td>No</td>\n",
       "      <td>DSL</td>\n",
       "      <td>Yes</td>\n",
       "      <td>...</td>\n",
       "      <td>Yes</td>\n",
       "      <td>No</td>\n",
       "      <td>No</td>\n",
       "      <td>No</td>\n",
       "      <td>One year</td>\n",
       "      <td>No</td>\n",
       "      <td>Mailed check</td>\n",
       "      <td>56.95</td>\n",
       "      <td>1889.50</td>\n",
       "      <td>No</td>\n",
       "    </tr>\n",
       "    <tr>\n",
       "      <th>2</th>\n",
       "      <td>3668-QPYBK</td>\n",
       "      <td>Male</td>\n",
       "      <td>0</td>\n",
       "      <td>No</td>\n",
       "      <td>No</td>\n",
       "      <td>2</td>\n",
       "      <td>Yes</td>\n",
       "      <td>No</td>\n",
       "      <td>DSL</td>\n",
       "      <td>Yes</td>\n",
       "      <td>...</td>\n",
       "      <td>No</td>\n",
       "      <td>No</td>\n",
       "      <td>No</td>\n",
       "      <td>No</td>\n",
       "      <td>Month-to-month</td>\n",
       "      <td>Yes</td>\n",
       "      <td>Mailed check</td>\n",
       "      <td>53.85</td>\n",
       "      <td>108.15</td>\n",
       "      <td>Yes</td>\n",
       "    </tr>\n",
       "    <tr>\n",
       "      <th>3</th>\n",
       "      <td>7795-CFOCW</td>\n",
       "      <td>Male</td>\n",
       "      <td>0</td>\n",
       "      <td>No</td>\n",
       "      <td>No</td>\n",
       "      <td>45</td>\n",
       "      <td>No</td>\n",
       "      <td>No phone service</td>\n",
       "      <td>DSL</td>\n",
       "      <td>Yes</td>\n",
       "      <td>...</td>\n",
       "      <td>Yes</td>\n",
       "      <td>Yes</td>\n",
       "      <td>No</td>\n",
       "      <td>No</td>\n",
       "      <td>One year</td>\n",
       "      <td>No</td>\n",
       "      <td>Bank transfer (automatic)</td>\n",
       "      <td>42.30</td>\n",
       "      <td>1840.75</td>\n",
       "      <td>No</td>\n",
       "    </tr>\n",
       "    <tr>\n",
       "      <th>4</th>\n",
       "      <td>9237-HQITU</td>\n",
       "      <td>Female</td>\n",
       "      <td>0</td>\n",
       "      <td>No</td>\n",
       "      <td>No</td>\n",
       "      <td>2</td>\n",
       "      <td>Yes</td>\n",
       "      <td>No</td>\n",
       "      <td>Fiber optic</td>\n",
       "      <td>No</td>\n",
       "      <td>...</td>\n",
       "      <td>No</td>\n",
       "      <td>No</td>\n",
       "      <td>No</td>\n",
       "      <td>No</td>\n",
       "      <td>Month-to-month</td>\n",
       "      <td>Yes</td>\n",
       "      <td>Electronic check</td>\n",
       "      <td>70.70</td>\n",
       "      <td>151.65</td>\n",
       "      <td>Yes</td>\n",
       "    </tr>\n",
       "  </tbody>\n",
       "</table>\n",
       "<p>5 rows × 21 columns</p>\n",
       "</div>"
      ],
      "text/plain": [
       "   customerID  gender  SeniorCitizen Partner Dependents  tenure PhoneService  \\\n",
       "0  7590-VHVEG  Female              0     Yes         No       1           No   \n",
       "1  5575-GNVDE    Male              0      No         No      34          Yes   \n",
       "2  3668-QPYBK    Male              0      No         No       2          Yes   \n",
       "3  7795-CFOCW    Male              0      No         No      45           No   \n",
       "4  9237-HQITU  Female              0      No         No       2          Yes   \n",
       "\n",
       "      MultipleLines InternetService OnlineSecurity  ... DeviceProtection  \\\n",
       "0  No phone service             DSL             No  ...               No   \n",
       "1                No             DSL            Yes  ...              Yes   \n",
       "2                No             DSL            Yes  ...               No   \n",
       "3  No phone service             DSL            Yes  ...              Yes   \n",
       "4                No     Fiber optic             No  ...               No   \n",
       "\n",
       "  TechSupport StreamingTV StreamingMovies        Contract PaperlessBilling  \\\n",
       "0          No          No              No  Month-to-month              Yes   \n",
       "1          No          No              No        One year               No   \n",
       "2          No          No              No  Month-to-month              Yes   \n",
       "3         Yes          No              No        One year               No   \n",
       "4          No          No              No  Month-to-month              Yes   \n",
       "\n",
       "               PaymentMethod MonthlyCharges  TotalCharges  Churn  \n",
       "0           Electronic check          29.85         29.85     No  \n",
       "1               Mailed check          56.95       1889.50     No  \n",
       "2               Mailed check          53.85        108.15    Yes  \n",
       "3  Bank transfer (automatic)          42.30       1840.75     No  \n",
       "4           Electronic check          70.70        151.65    Yes  \n",
       "\n",
       "[5 rows x 21 columns]"
      ]
     },
     "execution_count": 93,
     "metadata": {},
     "output_type": "execute_result"
    }
   ],
   "source": [
    "df = pd.read_csv('telco_churn.csv')\n",
    "df.head()"
   ]
  },
  {
   "cell_type": "code",
   "execution_count": 94,
   "id": "e7fbca87",
   "metadata": {},
   "outputs": [],
   "source": [
    "from math import sqrt\n",
    "\n",
    "from scipy import stats\n",
    "from pydataset import data"
   ]
  },
  {
   "cell_type": "code",
   "execution_count": 96,
   "id": "21dec828",
   "metadata": {},
   "outputs": [
    {
     "name": "stdout",
     "output_type": "stream",
     "text": [
      "<class 'pandas.core.frame.DataFrame'>\n",
      "RangeIndex: 7043 entries, 0 to 7042\n",
      "Data columns (total 21 columns):\n",
      " #   Column            Non-Null Count  Dtype  \n",
      "---  ------            --------------  -----  \n",
      " 0   customerID        7043 non-null   object \n",
      " 1   gender            7043 non-null   object \n",
      " 2   SeniorCitizen     7043 non-null   int64  \n",
      " 3   Partner           7043 non-null   object \n",
      " 4   Dependents        7043 non-null   object \n",
      " 5   tenure            7043 non-null   int64  \n",
      " 6   PhoneService      7043 non-null   object \n",
      " 7   MultipleLines     7043 non-null   object \n",
      " 8   InternetService   7043 non-null   object \n",
      " 9   OnlineSecurity    7043 non-null   object \n",
      " 10  OnlineBackup      7043 non-null   object \n",
      " 11  DeviceProtection  7043 non-null   object \n",
      " 12  TechSupport       7043 non-null   object \n",
      " 13  StreamingTV       7043 non-null   object \n",
      " 14  StreamingMovies   7043 non-null   object \n",
      " 15  Contract          7043 non-null   object \n",
      " 16  PaperlessBilling  7043 non-null   object \n",
      " 17  PaymentMethod     7043 non-null   object \n",
      " 18  MonthlyCharges    7043 non-null   float64\n",
      " 19  TotalCharges      7032 non-null   float64\n",
      " 20  Churn             7043 non-null   object \n",
      "dtypes: float64(2), int64(2), object(17)\n",
      "memory usage: 1.1+ MB\n"
     ]
    }
   ],
   "source": [
    "#Look at Data\n",
    "df.info()"
   ]
  },
  {
   "cell_type": "code",
   "execution_count": 100,
   "id": "4463954a",
   "metadata": {},
   "outputs": [],
   "source": [
    "# drop missing values\n",
    "df = df.dropna()"
   ]
  },
  {
   "cell_type": "code",
   "execution_count": 101,
   "id": "e099d655",
   "metadata": {},
   "outputs": [
    {
     "name": "stdout",
     "output_type": "stream",
     "text": [
      "<class 'pandas.core.frame.DataFrame'>\n",
      "Int64Index: 7032 entries, 0 to 7042\n",
      "Data columns (total 21 columns):\n",
      " #   Column            Non-Null Count  Dtype  \n",
      "---  ------            --------------  -----  \n",
      " 0   customerID        7032 non-null   object \n",
      " 1   gender            7032 non-null   object \n",
      " 2   SeniorCitizen     7032 non-null   int64  \n",
      " 3   Partner           7032 non-null   object \n",
      " 4   Dependents        7032 non-null   object \n",
      " 5   tenure            7032 non-null   int64  \n",
      " 6   PhoneService      7032 non-null   object \n",
      " 7   MultipleLines     7032 non-null   object \n",
      " 8   InternetService   7032 non-null   object \n",
      " 9   OnlineSecurity    7032 non-null   object \n",
      " 10  OnlineBackup      7032 non-null   object \n",
      " 11  DeviceProtection  7032 non-null   object \n",
      " 12  TechSupport       7032 non-null   object \n",
      " 13  StreamingTV       7032 non-null   object \n",
      " 14  StreamingMovies   7032 non-null   object \n",
      " 15  Contract          7032 non-null   object \n",
      " 16  PaperlessBilling  7032 non-null   object \n",
      " 17  PaymentMethod     7032 non-null   object \n",
      " 18  MonthlyCharges    7032 non-null   float64\n",
      " 19  TotalCharges      7032 non-null   float64\n",
      " 20  Churn             7032 non-null   object \n",
      "dtypes: float64(2), int64(2), object(17)\n",
      "memory usage: 1.2+ MB\n"
     ]
    }
   ],
   "source": [
    "df.info()"
   ]
  },
  {
   "cell_type": "code",
   "execution_count": 105,
   "id": "b84be4a1",
   "metadata": {},
   "outputs": [
    {
     "data": {
      "text/html": [
       "<div>\n",
       "<style scoped>\n",
       "    .dataframe tbody tr th:only-of-type {\n",
       "        vertical-align: middle;\n",
       "    }\n",
       "\n",
       "    .dataframe tbody tr th {\n",
       "        vertical-align: top;\n",
       "    }\n",
       "\n",
       "    .dataframe thead th {\n",
       "        text-align: right;\n",
       "    }\n",
       "</style>\n",
       "<table border=\"1\" class=\"dataframe\">\n",
       "  <thead>\n",
       "    <tr style=\"text-align: right;\">\n",
       "      <th></th>\n",
       "      <th>customerID</th>\n",
       "      <th>gender</th>\n",
       "      <th>SeniorCitizen</th>\n",
       "      <th>Partner</th>\n",
       "      <th>Dependents</th>\n",
       "      <th>tenure</th>\n",
       "      <th>PhoneService</th>\n",
       "      <th>MultipleLines</th>\n",
       "      <th>InternetService</th>\n",
       "      <th>OnlineSecurity</th>\n",
       "      <th>...</th>\n",
       "      <th>DeviceProtection</th>\n",
       "      <th>TechSupport</th>\n",
       "      <th>StreamingTV</th>\n",
       "      <th>StreamingMovies</th>\n",
       "      <th>Contract</th>\n",
       "      <th>PaperlessBilling</th>\n",
       "      <th>PaymentMethod</th>\n",
       "      <th>MonthlyCharges</th>\n",
       "      <th>TotalCharges</th>\n",
       "      <th>Churn</th>\n",
       "    </tr>\n",
       "  </thead>\n",
       "  <tbody>\n",
       "    <tr>\n",
       "      <th>0</th>\n",
       "      <td>7590-VHVEG</td>\n",
       "      <td>Female</td>\n",
       "      <td>0</td>\n",
       "      <td>Yes</td>\n",
       "      <td>No</td>\n",
       "      <td>1</td>\n",
       "      <td>No</td>\n",
       "      <td>No phone service</td>\n",
       "      <td>DSL</td>\n",
       "      <td>No</td>\n",
       "      <td>...</td>\n",
       "      <td>No</td>\n",
       "      <td>No</td>\n",
       "      <td>No</td>\n",
       "      <td>No</td>\n",
       "      <td>Month-to-month</td>\n",
       "      <td>Yes</td>\n",
       "      <td>Electronic check</td>\n",
       "      <td>29.85</td>\n",
       "      <td>29.85</td>\n",
       "      <td>No</td>\n",
       "    </tr>\n",
       "    <tr>\n",
       "      <th>1</th>\n",
       "      <td>5575-GNVDE</td>\n",
       "      <td>Male</td>\n",
       "      <td>0</td>\n",
       "      <td>No</td>\n",
       "      <td>No</td>\n",
       "      <td>34</td>\n",
       "      <td>Yes</td>\n",
       "      <td>No</td>\n",
       "      <td>DSL</td>\n",
       "      <td>Yes</td>\n",
       "      <td>...</td>\n",
       "      <td>Yes</td>\n",
       "      <td>No</td>\n",
       "      <td>No</td>\n",
       "      <td>No</td>\n",
       "      <td>One year</td>\n",
       "      <td>No</td>\n",
       "      <td>Mailed check</td>\n",
       "      <td>56.95</td>\n",
       "      <td>1889.50</td>\n",
       "      <td>No</td>\n",
       "    </tr>\n",
       "    <tr>\n",
       "      <th>2</th>\n",
       "      <td>3668-QPYBK</td>\n",
       "      <td>Male</td>\n",
       "      <td>0</td>\n",
       "      <td>No</td>\n",
       "      <td>No</td>\n",
       "      <td>2</td>\n",
       "      <td>Yes</td>\n",
       "      <td>No</td>\n",
       "      <td>DSL</td>\n",
       "      <td>Yes</td>\n",
       "      <td>...</td>\n",
       "      <td>No</td>\n",
       "      <td>No</td>\n",
       "      <td>No</td>\n",
       "      <td>No</td>\n",
       "      <td>Month-to-month</td>\n",
       "      <td>Yes</td>\n",
       "      <td>Mailed check</td>\n",
       "      <td>53.85</td>\n",
       "      <td>108.15</td>\n",
       "      <td>Yes</td>\n",
       "    </tr>\n",
       "    <tr>\n",
       "      <th>3</th>\n",
       "      <td>7795-CFOCW</td>\n",
       "      <td>Male</td>\n",
       "      <td>0</td>\n",
       "      <td>No</td>\n",
       "      <td>No</td>\n",
       "      <td>45</td>\n",
       "      <td>No</td>\n",
       "      <td>No phone service</td>\n",
       "      <td>DSL</td>\n",
       "      <td>Yes</td>\n",
       "      <td>...</td>\n",
       "      <td>Yes</td>\n",
       "      <td>Yes</td>\n",
       "      <td>No</td>\n",
       "      <td>No</td>\n",
       "      <td>One year</td>\n",
       "      <td>No</td>\n",
       "      <td>Bank transfer (automatic)</td>\n",
       "      <td>42.30</td>\n",
       "      <td>1840.75</td>\n",
       "      <td>No</td>\n",
       "    </tr>\n",
       "    <tr>\n",
       "      <th>4</th>\n",
       "      <td>9237-HQITU</td>\n",
       "      <td>Female</td>\n",
       "      <td>0</td>\n",
       "      <td>No</td>\n",
       "      <td>No</td>\n",
       "      <td>2</td>\n",
       "      <td>Yes</td>\n",
       "      <td>No</td>\n",
       "      <td>Fiber optic</td>\n",
       "      <td>No</td>\n",
       "      <td>...</td>\n",
       "      <td>No</td>\n",
       "      <td>No</td>\n",
       "      <td>No</td>\n",
       "      <td>No</td>\n",
       "      <td>Month-to-month</td>\n",
       "      <td>Yes</td>\n",
       "      <td>Electronic check</td>\n",
       "      <td>70.70</td>\n",
       "      <td>151.65</td>\n",
       "      <td>Yes</td>\n",
       "    </tr>\n",
       "  </tbody>\n",
       "</table>\n",
       "<p>5 rows × 21 columns</p>\n",
       "</div>"
      ],
      "text/plain": [
       "   customerID  gender  SeniorCitizen Partner Dependents  tenure PhoneService  \\\n",
       "0  7590-VHVEG  Female              0     Yes         No       1           No   \n",
       "1  5575-GNVDE    Male              0      No         No      34          Yes   \n",
       "2  3668-QPYBK    Male              0      No         No       2          Yes   \n",
       "3  7795-CFOCW    Male              0      No         No      45           No   \n",
       "4  9237-HQITU  Female              0      No         No       2          Yes   \n",
       "\n",
       "      MultipleLines InternetService OnlineSecurity  ... DeviceProtection  \\\n",
       "0  No phone service             DSL             No  ...               No   \n",
       "1                No             DSL            Yes  ...              Yes   \n",
       "2                No             DSL            Yes  ...               No   \n",
       "3  No phone service             DSL            Yes  ...              Yes   \n",
       "4                No     Fiber optic             No  ...               No   \n",
       "\n",
       "  TechSupport StreamingTV StreamingMovies        Contract PaperlessBilling  \\\n",
       "0          No          No              No  Month-to-month              Yes   \n",
       "1          No          No              No        One year               No   \n",
       "2          No          No              No  Month-to-month              Yes   \n",
       "3         Yes          No              No        One year               No   \n",
       "4          No          No              No  Month-to-month              Yes   \n",
       "\n",
       "               PaymentMethod MonthlyCharges  TotalCharges  Churn  \n",
       "0           Electronic check          29.85         29.85     No  \n",
       "1               Mailed check          56.95       1889.50     No  \n",
       "2               Mailed check          53.85        108.15    Yes  \n",
       "3  Bank transfer (automatic)          42.30       1840.75     No  \n",
       "4           Electronic check          70.70        151.65    Yes  \n",
       "\n",
       "[5 rows x 21 columns]"
      ]
     },
     "execution_count": 105,
     "metadata": {},
     "output_type": "execute_result"
    }
   ],
   "source": [
    "df.head()"
   ]
  },
  {
   "cell_type": "code",
   "execution_count": 116,
   "id": "d9b7cddd",
   "metadata": {},
   "outputs": [
    {
     "data": {
      "text/plain": [
       "<seaborn.axisgrid.PairGrid at 0x15b2c47c0>"
      ]
     },
     "execution_count": 116,
     "metadata": {},
     "output_type": "execute_result"
    },
    {
     "data": {
      "image/png": "[encoded data removed]",
      "text/plain": [
       "<Figure size 720x720 with 14 Axes>"
      ]
     },
     "metadata": {
      "needs_background": "light"
     },
     "output_type": "display_data"
    }
   ],
   "source": [
    "tenure = df.tenure\n",
    "monthly_charges = df.MonthlyCharges\n",
    "tcharges = df.TotalCharges\n",
    "\n",
    "sns.pairplot(df, corner= True)"
   ]
  },
  {
   "cell_type": "code",
   "execution_count": 118,
   "id": "65d7d3a8",
   "metadata": {},
   "outputs": [
    {
     "data": {
      "text/plain": [
       "0.24686176664089346"
      ]
     },
     "execution_count": 118,
     "metadata": {},
     "output_type": "execute_result"
    }
   ],
   "source": [
    "n = df.shape[0]\n",
    "degf = n-2\n",
    "α=0.05\n",
    "conf_interval = 1-α\n",
    "\n",
    "# Ho: there is no linear correlation between tenure and charges\n",
    "# Ha: there is a linear correlation between tenure and charges\n",
    "\n",
    "x = df.tenure\n",
    "y = df.MonthlyCharges\n",
    "\n",
    "def std(x):\n",
    "    variance = ((x-x.mean())**2).sum()/n\n",
    "    return sqrt(variance)\n",
    "r_xy = (((x - x.mean()) * (y - y.mean())).sum() / n) / (std(x) * std(y))\n",
    "r_xy"
   ]
  },
  {
   "cell_type": "code",
   "execution_count": 119,
   "id": "ef70b70f",
   "metadata": {},
   "outputs": [
    {
     "data": {
      "text/plain": [
       "21.35920054761362"
      ]
     },
     "execution_count": 119,
     "metadata": {},
     "output_type": "execute_result"
    }
   ],
   "source": [
    "t = (r_xy * sqrt(n - 2)) / sqrt(1 - r_xy**2)\n",
    "t"
   ]
  },
  {
   "cell_type": "code",
   "execution_count": 120,
   "id": "d3e00c5f",
   "metadata": {},
   "outputs": [
    {
     "data": {
      "text/plain": [
       "3.989821323220255e-98"
      ]
     },
     "execution_count": 120,
     "metadata": {},
     "output_type": "execute_result"
    }
   ],
   "source": [
    "p = stats.t.sf(t, df=degf) * 2 # *2 for a two-tailed test\n",
    "p"
   ]
  },
  {
   "cell_type": "code",
   "execution_count": 121,
   "id": "4b96282e",
   "metadata": {},
   "outputs": [
    {
     "name": "stdout",
     "output_type": "stream",
     "text": [
      "Reject Ho\n"
     ]
    }
   ],
   "source": [
    "if p < α:\n",
    "    print(f'Reject Ho')\n",
    "else:\n",
    "    print(f'Fail to Reject Ho')"
   ]
  },
  {
   "cell_type": "code",
   "execution_count": 122,
   "id": "3da0716e",
   "metadata": {},
   "outputs": [
    {
     "data": {
      "text/plain": [
       "(0.24686176664089593, 3.989821323249241e-98)"
      ]
     },
     "execution_count": 122,
     "metadata": {},
     "output_type": "execute_result"
    }
   ],
   "source": [
    "corr, p = stats.pearsonr (x,y)\n",
    "corr, p"
   ]
  },
  {
   "cell_type": "code",
   "execution_count": 126,
   "id": "dc7fac0a",
   "metadata": {},
   "outputs": [
    {
     "data": {
      "text/plain": [
       "0.8258804609332019"
      ]
     },
     "execution_count": 126,
     "metadata": {},
     "output_type": "execute_result"
    }
   ],
   "source": [
    "# Total Charges\n",
    "x = df.tenure\n",
    "y = tcharges\n",
    "r_xy"
   ]
  },
  {
   "cell_type": "code",
   "execution_count": 128,
   "id": "96f129f9",
   "metadata": {},
   "outputs": [
    {
     "data": {
      "text/plain": [
       "122.81033866910865"
      ]
     },
     "execution_count": 128,
     "metadata": {},
     "output_type": "execute_result"
    }
   ],
   "source": [
    "t = (r_xy * sqrt(n - 2)) / sqrt(1 - r_xy**2)\n",
    "t"
   ]
  },
  {
   "cell_type": "code",
   "execution_count": 129,
   "id": "98e77838",
   "metadata": {},
   "outputs": [
    {
     "data": {
      "text/plain": [
       "0.0"
      ]
     },
     "execution_count": 129,
     "metadata": {},
     "output_type": "execute_result"
    }
   ],
   "source": [
    "p = stats.t.sf(t, df=degf) * 2 # *2 for a two-tailed test\n",
    "p"
   ]
  },
  {
   "cell_type": "code",
   "execution_count": 130,
   "id": "63f888e5",
   "metadata": {},
   "outputs": [
    {
     "name": "stdout",
     "output_type": "stream",
     "text": [
      "Reject Ho\n"
     ]
    }
   ],
   "source": [
    "if p < α:\n",
    "    print(f'Reject Ho')\n",
    "else:\n",
    "    print(f'Fail to Reject Ho')"
   ]
  },
  {
   "cell_type": "code",
   "execution_count": 131,
   "id": "d9767d34",
   "metadata": {},
   "outputs": [
    {
     "data": {
      "text/plain": [
       "(0.8258804609332093, 0.0)"
      ]
     },
     "execution_count": 131,
     "metadata": {},
     "output_type": "execute_result"
    }
   ],
   "source": [
    "corr, p = stats.pearsonr (x,y)\n",
    "corr, p"
   ]
  },
  {
   "cell_type": "code",
   "execution_count": 134,
   "id": "94839b6a",
   "metadata": {},
   "outputs": [
    {
     "data": {
      "text/plain": [
       "Fiber optic    3096\n",
       "DSL            2416\n",
       "No             1520\n",
       "Name: InternetService, dtype: int64"
      ]
     },
     "execution_count": 134,
     "metadata": {},
     "output_type": "execute_result"
    }
   ],
   "source": [
    "# What happens if you control for phone and internet service?\n",
    "df.InternetService.value_counts()"
   ]
  },
  {
   "cell_type": "code",
   "execution_count": 135,
   "id": "73c58199",
   "metadata": {},
   "outputs": [
    {
     "data": {
      "text/plain": [
       "Yes    6352\n",
       "No      680\n",
       "Name: PhoneService, dtype: int64"
      ]
     },
     "execution_count": 135,
     "metadata": {},
     "output_type": "execute_result"
    }
   ],
   "source": [
    "df.PhoneService.value_counts()"
   ]
  },
  {
   "cell_type": "code",
   "execution_count": 140,
   "id": "16eee349",
   "metadata": {},
   "outputs": [],
   "source": [
    "#Building filters\n",
    "phonesample = df[df.PhoneService == 'Yes']\n",
    "nophonesample=df[df.PhoneService == 'No']\n",
    "internetsample = df[df.InternetService != 'No']\n",
    "nointernetsample = df[df.InternetService =='No']"
   ]
  },
  {
   "cell_type": "code",
   "execution_count": 149,
   "id": "93baaa65",
   "metadata": {},
   "outputs": [
    {
     "data": {
      "text/plain": [
       "(0.2468617666408935, 122.81033866910865, 3.989821323249241e-98)"
      ]
     },
     "execution_count": 149,
     "metadata": {},
     "output_type": "execute_result"
    }
   ],
   "source": [
    "# Reassign variables with Filters\n",
    "n = phonesample.shape[0]\n",
    "x = df.tenure\n",
    "y = df.MonthlyCharges\n",
    "r_xy = (((x - x.mean()) * (y - y.mean())).sum() / n) / (std(x) * std(y))\n",
    "p = stats.t.sf(t, df=degf) * 2\n",
    "corr, p = stats.pearsonr (x,y)\n",
    "r_xy, t, p "
   ]
  },
  {
   "cell_type": "code",
   "execution_count": 150,
   "id": "1c949243",
   "metadata": {},
   "outputs": [
    {
     "name": "stdout",
     "output_type": "stream",
     "text": [
      "Reject Ho\n"
     ]
    }
   ],
   "source": [
    "if p < α:\n",
    "    print(f'Reject Ho')\n",
    "else:\n",
    "    print(f'Fail to Reject Ho')"
   ]
  },
  {
   "cell_type": "code",
   "execution_count": 151,
   "id": "34059a3c",
   "metadata": {},
   "outputs": [
    {
     "data": {
      "text/plain": [
       "(0.24686176664089343, 122.81033866910865, 3.989821323249241e-98)"
      ]
     },
     "execution_count": 151,
     "metadata": {},
     "output_type": "execute_result"
    }
   ],
   "source": [
    "n = nophonesample.shape[0]\n",
    "x = df.tenure\n",
    "y = df.MonthlyCharges\n",
    "r_xy = (((x - x.mean()) * (y - y.mean())).sum() / n) / (std(x) * std(y))\n",
    "p = stats.t.sf(t, df=degf) * 2\n",
    "corr, p = stats.pearsonr (x,y)\n",
    "r_xy, t, p "
   ]
  },
  {
   "cell_type": "code",
   "execution_count": 152,
   "id": "b530aa08",
   "metadata": {},
   "outputs": [
    {
     "data": {
      "text/plain": [
       "(0.24686176664089343, 122.81033866910865, 3.989821323249241e-98)"
      ]
     },
     "execution_count": 152,
     "metadata": {},
     "output_type": "execute_result"
    }
   ],
   "source": [
    "n = internetsample.shape[0]\n",
    "x = df.tenure\n",
    "y = df.MonthlyCharges\n",
    "r_xy = (((x - x.mean()) * (y - y.mean())).sum() / n) / (std(x) * std(y))\n",
    "p = stats.t.sf(t, df=degf) * 2\n",
    "corr, p = stats.pearsonr (x,y)\n",
    "r_xy, t, p "
   ]
  },
  {
   "cell_type": "code",
   "execution_count": 153,
   "id": "2005ece3",
   "metadata": {},
   "outputs": [
    {
     "data": {
      "text/plain": [
       "(0.24686176664089343, 122.81033866910865, 3.989821323249241e-98)"
      ]
     },
     "execution_count": 153,
     "metadata": {},
     "output_type": "execute_result"
    }
   ],
   "source": [
    "n = nointernetsample.shape[0]\n",
    "x = df.tenure\n",
    "y = df.MonthlyCharges\n",
    "r_xy = (((x - x.mean()) * (y - y.mean())).sum() / n) / (std(x) * std(y))\n",
    "p = stats.t.sf(t, df=degf) * 2\n",
    "corr, p = stats.pearsonr (x,y)\n",
    "r_xy, t, p "
   ]
  },
  {
   "cell_type": "code",
   "execution_count": 154,
   "id": "84424343",
   "metadata": {},
   "outputs": [
    {
     "data": {
      "text/plain": [
       "(0.825880460933202, 122.81033866910865, 0.0)"
      ]
     },
     "execution_count": 154,
     "metadata": {},
     "output_type": "execute_result"
    }
   ],
   "source": [
    "n = nophonesample.shape[0]\n",
    "x = df.tenure\n",
    "y = tcharges\n",
    "r_xy = (((x - x.mean()) * (y - y.mean())).sum() / n) / (std(x) * std(y))\n",
    "p = stats.t.sf(t, df=degf) * 2\n",
    "corr, p = stats.pearsonr (x,y)\n",
    "r_xy, t, p "
   ]
  },
  {
   "cell_type": "code",
   "execution_count": 156,
   "id": "8a4981e1",
   "metadata": {},
   "outputs": [
    {
     "data": {
      "text/plain": [
       "(0.8258804609332019, 122.81033866910865, 0.0)"
      ]
     },
     "execution_count": 156,
     "metadata": {},
     "output_type": "execute_result"
    }
   ],
   "source": [
    "n = nointernetsample.shape[0]\n",
    "x = df.tenure\n",
    "y = tcharges\n",
    "r_xy = (((x - x.mean()) * (y - y.mean())).sum() / n) / (std(x) * std(y))\n",
    "p = stats.t.sf(t, df=degf) * 2\n",
    "corr, p = stats.pearsonr (x,y)\n",
    "r_xy, t, p "
   ]
  },
  {
   "cell_type": "code",
   "execution_count": null,
   "id": "dc5a6869",
   "metadata": {},
   "outputs": [],
   "source": []
  }
 ],
 "metadata": {
  "kernelspec": {
   "display_name": "Python 3 (ipykernel)",
   "language": "python",
   "name": "python3"
  },
  "language_info": {
   "codemirror_mode": {
    "name": "ipython",
    "version": 3
   },
   "file_extension": ".py",
   "mimetype": "text/x-python",
   "name": "python",
   "nbconvert_exporter": "python",
   "pygments_lexer": "ipython3",
   "version": "3.9.12"
  }
 },
 "nbformat": 4,
 "nbformat_minor": 5
}
