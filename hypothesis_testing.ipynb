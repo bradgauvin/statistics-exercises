{
 "cells": [
  {
   "cell_type": "markdown",
   "id": "caa66bb5",
   "metadata": {},
   "source": [
    "\n",
    "Ace Realty wants to determine whether the average time it takes to sell homes is different for its two offices. A sample of 40 sales from office #1 revealed a mean of 90 days and a standard deviation of 15 days. A sample of 50 sales from office #2 revealed a mean of 100 days and a standard deviation of 20 days. Use a .05 level of significance."
   ]
  },
  {
   "cell_type": "code",
   "execution_count": 10,
   "id": "2f8f86ed",
   "metadata": {},
   "outputs": [],
   "source": [
    "#env set up\n",
    "import matplotlib.pyplot as plt\n",
    "import numpy as np\n",
    "import pandas as pd\n",
    "import scipy.stats as stats\n",
    "import seaborn as sns\n",
    "from env import host, user, password\n",
    "np.random.seed(123)\n",
    "\n",
    "def get_db_url(user,host,password,dbname):\n",
    "    url = f'mysql+pymysql://{user}:{password}@{host}/dbname'\n",
    "    return url "
   ]
  },
  {
   "cell_type": "code",
   "execution_count": null,
   "id": "2d4b67be",
   "metadata": {},
   "outputs": [],
   "source": [
    "n1 = 40\n",
    "mean1 = 90\n",
    "sd1 = 15\n",
    "n2 = 50\n",
    "mean2 = 100\n",
    "sd2 = 20\n",
    "α=0.05"
   ]
  },
  {
   "cell_type": "code",
   "execution_count": null,
   "id": "138799ec",
   "metadata": {},
   "outputs": [],
   "source": [
    "office1 = stats.norm(mean1,sd1).rvs(n1)"
   ]
  },
  {
   "cell_type": "code",
   "execution_count": null,
   "id": "6e05a5c2",
   "metadata": {},
   "outputs": [],
   "source": [
    "type(office1)"
   ]
  },
  {
   "cell_type": "code",
   "execution_count": null,
   "id": "307898ea",
   "metadata": {},
   "outputs": [],
   "source": [
    "office2 = stats.norm(mean2,sd2).rvs(n2)"
   ]
  },
  {
   "cell_type": "code",
   "execution_count": null,
   "id": "3734faa5",
   "metadata": {},
   "outputs": [],
   "source": [
    "sns.displot(office1)"
   ]
  },
  {
   "cell_type": "code",
   "execution_count": null,
   "id": "1b816e93",
   "metadata": {},
   "outputs": [],
   "source": [
    "sns.displot(office2)"
   ]
  },
  {
   "cell_type": "code",
   "execution_count": null,
   "id": "77969263",
   "metadata": {},
   "outputs": [],
   "source": [
    "office2.var()-office1.var()"
   ]
  },
  {
   "cell_type": "code",
   "execution_count": null,
   "id": "ab81f876",
   "metadata": {},
   "outputs": [],
   "source": [
    "t_1,p_1=stats.levene(office1,office2)\n",
    "t_1,p_1"
   ]
  },
  {
   "cell_type": "code",
   "execution_count": null,
   "id": "efa815fe",
   "metadata": {},
   "outputs": [],
   "source": [
    "t, p = stats.ttest_ind(office1, office2, equal_var = False)\n",
    "t, p"
   ]
  },
  {
   "cell_type": "code",
   "execution_count": null,
   "id": "7f4c47be",
   "metadata": {},
   "outputs": [],
   "source": [
    "if p < α:\n",
    "    print(f'Most likely: H_1')\n",
    "else:\n",
    "    print(f'Most likely: H_O')"
   ]
  },
  {
   "cell_type": "code",
   "execution_count": null,
   "id": "01162169",
   "metadata": {},
   "outputs": [],
   "source": [
    "stats.ttest_ind_from_stats(mean1, sd1, n1,mean2, sd2,n2, equal_var = False)"
   ]
  },
  {
   "cell_type": "markdown",
   "id": "3d3a1117",
   "metadata": {},
   "source": [
    "## 2 - Load the mpg dataset and use it to answer the following questions:"
   ]
  },
  {
   "cell_type": "code",
   "execution_count": 14,
   "id": "7b969b45",
   "metadata": {},
   "outputs": [
    {
     "data": {
      "text/html": [
       "<div>\n",
       "<style scoped>\n",
       "    .dataframe tbody tr th:only-of-type {\n",
       "        vertical-align: middle;\n",
       "    }\n",
       "\n",
       "    .dataframe tbody tr th {\n",
       "        vertical-align: top;\n",
       "    }\n",
       "\n",
       "    .dataframe thead th {\n",
       "        text-align: right;\n",
       "    }\n",
       "</style>\n",
       "<table border=\"1\" class=\"dataframe\">\n",
       "  <thead>\n",
       "    <tr style=\"text-align: right;\">\n",
       "      <th></th>\n",
       "      <th>manufacturer</th>\n",
       "      <th>model</th>\n",
       "      <th>displ</th>\n",
       "      <th>year</th>\n",
       "      <th>cyl</th>\n",
       "      <th>trans</th>\n",
       "      <th>drv</th>\n",
       "      <th>cty</th>\n",
       "      <th>hwy</th>\n",
       "      <th>fl</th>\n",
       "      <th>class</th>\n",
       "    </tr>\n",
       "  </thead>\n",
       "  <tbody>\n",
       "    <tr>\n",
       "      <th>1</th>\n",
       "      <td>audi</td>\n",
       "      <td>a4</td>\n",
       "      <td>1.8</td>\n",
       "      <td>1999</td>\n",
       "      <td>4</td>\n",
       "      <td>auto(l5)</td>\n",
       "      <td>f</td>\n",
       "      <td>18</td>\n",
       "      <td>29</td>\n",
       "      <td>p</td>\n",
       "      <td>compact</td>\n",
       "    </tr>\n",
       "    <tr>\n",
       "      <th>2</th>\n",
       "      <td>audi</td>\n",
       "      <td>a4</td>\n",
       "      <td>1.8</td>\n",
       "      <td>1999</td>\n",
       "      <td>4</td>\n",
       "      <td>manual(m5)</td>\n",
       "      <td>f</td>\n",
       "      <td>21</td>\n",
       "      <td>29</td>\n",
       "      <td>p</td>\n",
       "      <td>compact</td>\n",
       "    </tr>\n",
       "    <tr>\n",
       "      <th>3</th>\n",
       "      <td>audi</td>\n",
       "      <td>a4</td>\n",
       "      <td>2.0</td>\n",
       "      <td>2008</td>\n",
       "      <td>4</td>\n",
       "      <td>manual(m6)</td>\n",
       "      <td>f</td>\n",
       "      <td>20</td>\n",
       "      <td>31</td>\n",
       "      <td>p</td>\n",
       "      <td>compact</td>\n",
       "    </tr>\n",
       "    <tr>\n",
       "      <th>4</th>\n",
       "      <td>audi</td>\n",
       "      <td>a4</td>\n",
       "      <td>2.0</td>\n",
       "      <td>2008</td>\n",
       "      <td>4</td>\n",
       "      <td>auto(av)</td>\n",
       "      <td>f</td>\n",
       "      <td>21</td>\n",
       "      <td>30</td>\n",
       "      <td>p</td>\n",
       "      <td>compact</td>\n",
       "    </tr>\n",
       "    <tr>\n",
       "      <th>5</th>\n",
       "      <td>audi</td>\n",
       "      <td>a4</td>\n",
       "      <td>2.8</td>\n",
       "      <td>1999</td>\n",
       "      <td>6</td>\n",
       "      <td>auto(l5)</td>\n",
       "      <td>f</td>\n",
       "      <td>16</td>\n",
       "      <td>26</td>\n",
       "      <td>p</td>\n",
       "      <td>compact</td>\n",
       "    </tr>\n",
       "  </tbody>\n",
       "</table>\n",
       "</div>"
      ],
      "text/plain": [
       "  manufacturer model  displ  year  cyl       trans drv  cty  hwy fl    class\n",
       "1         audi    a4    1.8  1999    4    auto(l5)   f   18   29  p  compact\n",
       "2         audi    a4    1.8  1999    4  manual(m5)   f   21   29  p  compact\n",
       "3         audi    a4    2.0  2008    4  manual(m6)   f   20   31  p  compact\n",
       "4         audi    a4    2.0  2008    4    auto(av)   f   21   30  p  compact\n",
       "5         audi    a4    2.8  1999    6    auto(l5)   f   16   26  p  compact"
      ]
     },
     "execution_count": 14,
     "metadata": {},
     "output_type": "execute_result"
    }
   ],
   "source": [
    "from pydataset import data\n",
    "mpg = data('mpg')\n",
    "mpg.head()"
   ]
  },
  {
   "cell_type": "code",
   "execution_count": 15,
   "id": "f82eabb3",
   "metadata": {},
   "outputs": [
    {
     "name": "stdout",
     "output_type": "stream",
     "text": [
      "<class 'pandas.core.frame.DataFrame'>\n",
      "Int64Index: 234 entries, 1 to 234\n",
      "Data columns (total 11 columns):\n",
      " #   Column        Non-Null Count  Dtype  \n",
      "---  ------        --------------  -----  \n",
      " 0   manufacturer  234 non-null    object \n",
      " 1   model         234 non-null    object \n",
      " 2   displ         234 non-null    float64\n",
      " 3   year          234 non-null    int64  \n",
      " 4   cyl           234 non-null    int64  \n",
      " 5   trans         234 non-null    object \n",
      " 6   drv           234 non-null    object \n",
      " 7   cty           234 non-null    int64  \n",
      " 8   hwy           234 non-null    int64  \n",
      " 9   fl            234 non-null    object \n",
      " 10  class         234 non-null    object \n",
      "dtypes: float64(1), int64(4), object(6)\n",
      "memory usage: 21.9+ KB\n"
     ]
    }
   ],
   "source": [
    "# Is there a difference in fuel-efficiency in cars from 2008 vs 1999?\n",
    "# Ho = there is no difference in fuel-efficiency in cars from 2008 vs 1999\n",
    "# Ha = there is a difference in fuel-efficiency in cars from 2008 vs 1999\n",
    "mpg.info()"
   ]
  },
  {
   "cell_type": "code",
   "execution_count": 22,
   "id": "7f86e0bf",
   "metadata": {},
   "outputs": [
    {
     "name": "stdout",
     "output_type": "stream",
     "text": [
      "<class 'pandas.core.frame.DataFrame'>\n",
      "Int64Index: 234 entries, 1 to 234\n",
      "Data columns (total 12 columns):\n",
      " #   Column        Non-Null Count  Dtype  \n",
      "---  ------        --------------  -----  \n",
      " 0   manufacturer  234 non-null    object \n",
      " 1   model         234 non-null    object \n",
      " 2   displ         234 non-null    float64\n",
      " 3   year          234 non-null    int64  \n",
      " 4   cyl           234 non-null    int64  \n",
      " 5   trans         234 non-null    object \n",
      " 6   drv           234 non-null    object \n",
      " 7   cty           234 non-null    int64  \n",
      " 8   hwy           234 non-null    int64  \n",
      " 9   fl            234 non-null    object \n",
      " 10  class         234 non-null    object \n",
      " 11  total_mpg     234 non-null    float64\n",
      "dtypes: float64(2), int64(4), object(6)\n",
      "memory usage: 23.8+ KB\n"
     ]
    },
    {
     "data": {
      "text/plain": [
       "<AxesSubplot:>"
      ]
     },
     "execution_count": 22,
     "metadata": {},
     "output_type": "execute_result"
    },
    {
     "data": {
      "image/png": "[encoded data removed]",
      "text/plain": [
       "<Figure size 432x288 with 1 Axes>"
      ]
     },
     "metadata": {
      "needs_background": "light"
     },
     "output_type": "display_data"
    }
   ],
   "source": [
    "mpg['total_mpg'] = (mpg.cty + mpg.hwy) / 2\n",
    "mpg.info()\n",
    "mpg.cty.hist()\n"
   ]
  },
  {
   "cell_type": "code",
   "execution_count": 23,
   "id": "2cd15a92",
   "metadata": {},
   "outputs": [
    {
     "data": {
      "text/plain": [
       "<AxesSubplot:>"
      ]
     },
     "execution_count": 23,
     "metadata": {},
     "output_type": "execute_result"
    },
    {
     "data": {
      "image/png": "[encoded data removed]",
      "text/plain": [
       "<Figure size 432x288 with 1 Axes>"
      ]
     },
     "metadata": {
      "needs_background": "light"
     },
     "output_type": "display_data"
    }
   ],
   "source": [
    "mpg.hwy.hist()\n"
   ]
  },
  {
   "cell_type": "code",
   "execution_count": 31,
   "id": "4ab1995d",
   "metadata": {},
   "outputs": [
    {
     "data": {
      "text/plain": [
       "<AxesSubplot:>"
      ]
     },
     "execution_count": 31,
     "metadata": {},
     "output_type": "execute_result"
    },
    {
     "data": {
      "image/png": "[encoded data removed]",
      "text/plain": [
       "<Figure size 432x288 with 1 Axes>"
      ]
     },
     "metadata": {
      "needs_background": "light"
     },
     "output_type": "display_data"
    }
   ],
   "source": [
    "mpg.total_mpg.hist()"
   ]
  },
  {
   "cell_type": "code",
   "execution_count": 32,
   "id": "c9912e28",
   "metadata": {},
   "outputs": [],
   "source": [
    "h2008 = mpg[mpg.year ==2008].hwy\n",
    "h1999 = mpg[mpg.year ==1999].cty\n",
    "c2008 = mpg[mpg.year ==2008].hwy\n",
    "c1999 = mpg[mpg.year ==1999].cty\n",
    "t2008 = mpg[mpg.year ==2008].total_mpg\n",
    "t1999 = mpg[mpg.year ==1999].total_mpg\n",
    "α=0.05"
   ]
  },
  {
   "cell_type": "code",
   "execution_count": 62,
   "id": "58946f47",
   "metadata": {},
   "outputs": [
    {
     "data": {
      "text/plain": [
       "(9.466618497423587, 5.10782454698565e-18)"
      ]
     },
     "execution_count": 62,
     "metadata": {},
     "output_type": "execute_result"
    }
   ],
   "source": [
    "t, p = stats.ttest_ind(h2008, h1999, equal_var = False)\n",
    "t, p "
   ]
  },
  {
   "cell_type": "code",
   "execution_count": 36,
   "id": "f6ff4c6c",
   "metadata": {},
   "outputs": [
    {
     "name": "stdout",
     "output_type": "stream",
     "text": [
      "We reject the null hypothesis\n"
     ]
    }
   ],
   "source": [
    "if (p/2 < α) & (t > 0):\n",
    "    print(\"We reject the null hypothesis\")\n",
    "else:\n",
    "    print(\"We fail to reject the null hypothesis\")"
   ]
  },
  {
   "cell_type": "code",
   "execution_count": 61,
   "id": "7709accf",
   "metadata": {},
   "outputs": [
    {
     "data": {
      "text/plain": [
       "(9.466618497423585, 3.4421244174046716e-18)"
      ]
     },
     "execution_count": 61,
     "metadata": {},
     "output_type": "execute_result"
    }
   ],
   "source": [
    "t, p = stats.ttest_ind(c2008, c1999, equal_var = True)\n",
    "t, p "
   ]
  },
  {
   "cell_type": "code",
   "execution_count": 39,
   "id": "14b6c9f2",
   "metadata": {},
   "outputs": [
    {
     "name": "stdout",
     "output_type": "stream",
     "text": [
      "We reject the null hypothesis\n"
     ]
    }
   ],
   "source": [
    "if (p/2 < α) & (t > 0):\n",
    "    print(\"We reject the null hypothesis\")\n",
    "else:\n",
    "    print(\"We fail to reject the null hypothesis\")"
   ]
  },
  {
   "cell_type": "code",
   "execution_count": 60,
   "id": "193c5324",
   "metadata": {},
   "outputs": [
    {
     "data": {
      "text/plain": [
       "(-0.21960177245940962, 0.8263750772060638)"
      ]
     },
     "execution_count": 60,
     "metadata": {},
     "output_type": "execute_result"
    }
   ],
   "source": [
    "t, p = stats.ttest_ind(t2008, t1999, equal_var = False)\n",
    "t, p"
   ]
  },
  {
   "cell_type": "code",
   "execution_count": 43,
   "id": "add520e8",
   "metadata": {},
   "outputs": [
    {
     "name": "stdout",
     "output_type": "stream",
     "text": [
      "We fail to reject the null hypothesis\n"
     ]
    }
   ],
   "source": [
    "if (p/2 < α) & (t > 0):\n",
    "    print(\"We reject the null hypothesis\")\n",
    "else:\n",
    "    print(\"We fail to reject the null hypothesis\")"
   ]
  },
  {
   "cell_type": "markdown",
   "id": "529ac4ec",
   "metadata": {},
   "source": [
    "### Are compact cars more fuel-efficient than the average car?"
   ]
  },
  {
   "cell_type": "code",
   "execution_count": 57,
   "id": "831d4b7a",
   "metadata": {},
   "outputs": [
    {
     "data": {
      "text/plain": [
       "suv           62\n",
       "compact       47\n",
       "midsize       41\n",
       "subcompact    35\n",
       "pickup        33\n",
       "minivan       11\n",
       "2seater        5\n",
       "Name: class, dtype: int64"
      ]
     },
     "execution_count": 57,
     "metadata": {},
     "output_type": "execute_result"
    }
   ],
   "source": [
    "#Ho compact cars are not more fuel-efficient than average car.\n",
    "#Ha - compact cars are more fuel-efficient than aveage car\n",
    "mpg['class'].value_counts()"
   ]
  },
  {
   "cell_type": "code",
   "execution_count": 70,
   "id": "10d9b646",
   "metadata": {},
   "outputs": [],
   "source": [
    "compact_t = mpg[mpg['class']=='compact'].total_mpg\n",
    "compact_h = mpg[mpg['class']=='compact'].hwy\n",
    "compact_c = mpg[mpg['class']=='compact'].cty"
   ]
  },
  {
   "cell_type": "code",
   "execution_count": 73,
   "id": "652ba3ba",
   "metadata": {},
   "outputs": [
    {
     "data": {
      "text/plain": [
       "(<seaborn.axisgrid.FacetGrid at 0x13fcee070>,\n",
       " <seaborn.axisgrid.FacetGrid at 0x13bf21fd0>,\n",
       " <seaborn.axisgrid.FacetGrid at 0x159e3f130>)"
      ]
     },
     "execution_count": 73,
     "metadata": {},
     "output_type": "execute_result"
    },
    {
     "data": {
      "image/png": "[encoded data removed]",
      "text/plain": [
       "<Figure size 360x360 with 1 Axes>"
      ]
     },
     "metadata": {
      "needs_background": "light"
     },
     "output_type": "display_data"
    },
    {
     "data": {
      "image/png": "[encoded data removed]",
      "text/plain": [
       "<Figure size 360x360 with 1 Axes>"
      ]
     },
     "metadata": {
      "needs_background": "light"
     },
     "output_type": "display_data"
    },
    {
     "data": {
      "image/png": "[encoded data removed]",
      "text/plain": [
       "<Figure size 360x360 with 1 Axes>"
      ]
     },
     "metadata": {
      "needs_background": "light"
     },
     "output_type": "display_data"
    }
   ],
   "source": [
    "sns.displot(compact_t), sns.displot(compact_h), sns.displot(compact_c)"
   ]
  },
  {
   "cell_type": "code",
   "execution_count": 74,
   "id": "034e4919",
   "metadata": {},
   "outputs": [
    {
     "data": {
      "text/plain": [
       "(7.896888573132535, 4.1985637943171186e-10)"
      ]
     },
     "execution_count": 74,
     "metadata": {},
     "output_type": "execute_result"
    }
   ],
   "source": [
    "t,p=stats.ttest_1samp(compact_t,mpg.total_mpg.mean())\n",
    "t,p"
   ]
  },
  {
   "cell_type": "code",
   "execution_count": 75,
   "id": "40d28851",
   "metadata": {},
   "outputs": [
    {
     "name": "stdout",
     "output_type": "stream",
     "text": [
      "We fail to reject the null hypothesis\n"
     ]
    }
   ],
   "source": [
    "if p/2 > α:\n",
    "    print(\"We reject the null hypothesis\")\n",
    "elif t < 0 :\n",
    "    print(\"We reject the null hypothesis for t-value\")\n",
    "else: \n",
    "    print(\"We fail to reject the null hypothesis\")"
   ]
  },
  {
   "cell_type": "code",
   "execution_count": 76,
   "id": "c6cc30c1",
   "metadata": {},
   "outputs": [
    {
     "name": "stdout",
     "output_type": "stream",
     "text": [
      "We fail to reject the null hypothesis\n"
     ]
    }
   ],
   "source": [
    "t,p=stats.ttest_1samp(compact_h,mpg.total_mpg.mean())\n",
    "t,p\n",
    "if p/2 > α:\n",
    "    print(\"We reject the null hypothesis\")\n",
    "elif t < 0 :\n",
    "    print(\"We reject the null hypothesis for t-value\")\n",
    "else: \n",
    "    print(\"We fail to reject the null hypothesis\")"
   ]
  },
  {
   "cell_type": "code",
   "execution_count": 77,
   "id": "7b6100eb",
   "metadata": {},
   "outputs": [
    {
     "name": "stdout",
     "output_type": "stream",
     "text": [
      "We reject the null hypothesis\n"
     ]
    }
   ],
   "source": [
    "t,p=stats.ttest_1samp(compact_c,mpg.total_mpg.mean())\n",
    "t,p\n",
    "if p/2 > α:\n",
    "    print(\"We reject the null hypothesis\")\n",
    "elif t < 0 :\n",
    "    print(\"We reject the null hypothesis for t-value\")\n",
    "else: \n",
    "    print(\"We fail to reject the null hypothesis\")"
   ]
  },
  {
   "cell_type": "markdown",
   "id": "baa9e7ba",
   "metadata": {},
   "source": [
    "### Do manual cars get better gas mileage than automatic cars?"
   ]
  },
  {
   "cell_type": "code",
   "execution_count": 82,
   "id": "38b59e65",
   "metadata": {},
   "outputs": [
    {
     "data": {
      "text/plain": [
       "auto(l4)      83\n",
       "manual(m5)    58\n",
       "auto(l5)      39\n",
       "manual(m6)    19\n",
       "auto(s6)      16\n",
       "auto(l6)       6\n",
       "auto(av)       5\n",
       "auto(s5)       3\n",
       "auto(s4)       3\n",
       "auto(l3)       2\n",
       "Name: trans, dtype: int64"
      ]
     },
     "execution_count": 82,
     "metadata": {},
     "output_type": "execute_result"
    }
   ],
   "source": [
    "# Ho - manual caras get the same milage than automatic cars\n",
    "# Ha - manual cars do get better gas mileage than authomatic cars\n",
    "mpg['trans'].value_counts()"
   ]
  },
  {
   "cell_type": "code",
   "execution_count": 86,
   "id": "ba1ab60d",
   "metadata": {},
   "outputs": [
    {
     "data": {
      "text/plain": [
       "157"
      ]
     },
     "execution_count": 86,
     "metadata": {},
     "output_type": "execute_result"
    }
   ],
   "source": [
    "manuals = mpg[mpg['trans'].astype(str).str[0] =='m'].total_mpg\n",
    "auto  = mpg[mpg['trans'].astype(str).str[0] =='a'].total_mpg\n",
    "auto.count()"
   ]
  },
  {
   "cell_type": "code",
   "execution_count": 87,
   "id": "145277e1",
   "metadata": {},
   "outputs": [
    {
     "data": {
      "text/plain": [
       "77"
      ]
     },
     "execution_count": 87,
     "metadata": {},
     "output_type": "execute_result"
    }
   ],
   "source": [
    "manuals.count()"
   ]
  },
  {
   "cell_type": "code",
   "execution_count": 88,
   "id": "2d975875",
   "metadata": {},
   "outputs": [
    {
     "data": {
      "text/plain": [
       "(<seaborn.axisgrid.FacetGrid at 0x159fc2fa0>,\n",
       " <seaborn.axisgrid.FacetGrid at 0x158966760>)"
      ]
     },
     "execution_count": 88,
     "metadata": {},
     "output_type": "execute_result"
    },
    {
     "data": {
      "image/png": "[encoded data removed]",
      "text/plain": [
       "<Figure size 360x360 with 1 Axes>"
      ]
     },
     "metadata": {
      "needs_background": "light"
     },
     "output_type": "display_data"
    },
    {
     "data": {
      "image/png": "[encoded data removed]",
      "text/plain": [
       "<Figure size 360x360 with 1 Axes>"
      ]
     },
     "metadata": {
      "needs_background": "light"
     },
     "output_type": "display_data"
    }
   ],
   "source": [
    "sns.displot(manuals), sns.displot(auto)"
   ]
  },
  {
   "cell_type": "code",
   "execution_count": 89,
   "id": "e6b33e02",
   "metadata": {},
   "outputs": [
    {
     "data": {
      "text/plain": [
       "(26.635167464114826, 21.942777233382337)"
      ]
     },
     "execution_count": 89,
     "metadata": {},
     "output_type": "execute_result"
    }
   ],
   "source": [
    "manuals.var(), auto.var()"
   ]
  },
  {
   "cell_type": "code",
   "execution_count": 90,
   "id": "e206e53a",
   "metadata": {},
   "outputs": [
    {
     "data": {
      "text/plain": [
       "LeveneResult(statistic=0.20075824847529639, pvalue=0.6545276355131857)"
      ]
     },
     "execution_count": 90,
     "metadata": {},
     "output_type": "execute_result"
    }
   ],
   "source": [
    "stats.levene(manuals, auto)"
   ]
  },
  {
   "cell_type": "code",
   "execution_count": 91,
   "id": "adff69d3",
   "metadata": {},
   "outputs": [
    {
     "data": {
      "text/plain": [
       "Ttest_indResult(statistic=4.593437735750014, pvalue=7.154374401145685e-06)"
      ]
     },
     "execution_count": 91,
     "metadata": {},
     "output_type": "execute_result"
    }
   ],
   "source": [
    "stats.ttest_ind(manuals, auto)"
   ]
  },
  {
   "cell_type": "code",
   "execution_count": 92,
   "id": "709b5fd9",
   "metadata": {},
   "outputs": [
    {
     "name": "stdout",
     "output_type": "stream",
     "text": [
      "We reject the null hypothesis\n"
     ]
    }
   ],
   "source": [
    "if p/2 > α:\n",
    "    print(\"We reject the null hypothesis\")\n",
    "elif t < 0 :\n",
    "    print(\"We reject the null hypothesis for t-value\")\n",
    "else: \n",
    "    print(\"We fail to reject the null hypothesis\")"
   ]
  },
  {
   "cell_type": "code",
   "execution_count": null,
   "id": "c7b28c50",
   "metadata": {},
   "outputs": [],
   "source": []
  }
 ],
 "metadata": {
  "kernelspec": {
   "display_name": "Python 3 (ipykernel)",
   "language": "python",
   "name": "python3"
  },
  "language_info": {
   "codemirror_mode": {
    "name": "ipython",
    "version": 3
   },
   "file_extension": ".py",
   "mimetype": "text/x-python",
   "name": "python",
   "nbconvert_exporter": "python",
   "pygments_lexer": "ipython3",
   "version": "3.9.12"
  }
 },
 "nbformat": 4,
 "nbformat_minor": 5
}
