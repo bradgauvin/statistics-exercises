{
 "cells": [
  {
   "cell_type": "markdown",
   "id": "de8db039",
   "metadata": {},
   "source": [
    "# Simulation Exercises\n",
    "1. How likely is it that you roll doubles when rolling two dice?\n",
    "2. If you flip 8 coins, what is the probability of getting exactly 3 heads? What is the probability of getting more than 3 heads?\n",
    "3. There are approximitely 3 web development cohorts for every 1 data science cohort at Codeup. Assuming that Codeup randomly selects an alumni to put on a billboard, what are the odds that the two billboards I drive past both have data science students on them?\n",
    "4. Codeup students buy, on average, 3 poptart packages with a standard deviation of 1.5 a day from the snack vending machine. If on monday the machine is restocked with 17 poptart packages, how likely is it that I will be able to buy some poptarts on Friday afternoon? (Remember, if you have mean and standard deviation, use the np.random.normal) You'll need to make a judgement call on how to handle some of your values\n",
    "5. Compare Heights\n",
    "- Men have an average height of 178 cm and standard deviation of 8cm.\n",
    "- Women have a mean of 170, sd = 6cm.\n",
    "- Since you have means and standard deviations, you can use np.random.normal to generate observations.\n",
    "- If a man and woman are chosen at random, what is the likelihood the woman is taller than the man?\n",
    "6. When installing anaconda on a student's computer, there's a 1 in 250 chance that the download is corrupted and the installation fails. What are the odds that after having 50 students download anaconda, no one has an installation issue? 100 students?\n",
    "- What is the probability that we observe an installation issue within the first 150 students that download anaconda?\n",
    "- How likely is it that 450 students all download anaconda without an issue?\n",
    "7. There's a 70% chance on any given day that there will be at least one food truck at Travis Park. However, you haven't seen a food truck there in 3 days. How unlikely is this?\n",
    "- How likely is it that a food truck will show up sometime this week?\n",
    "8. If 23 people are in the same room, what are the odds that two of them share a birthday? What if it's 20 people? 40?\n",
    "- Be sure to add, commit, and push your work.\n",
    "\n"
   ]
  },
  {
   "cell_type": "code",
   "execution_count": 2,
   "id": "f371bc1b",
   "metadata": {},
   "outputs": [],
   "source": [
    "# Env Set up\n",
    "import matplotlib.pyplot as plt\n",
    "import numpy as np\n",
    "import pandas as pd\n",
    "import viz \n",
    "import math\n",
    "import seaborn as sb\n",
    "\n",
    "np.random.seed(5)"
   ]
  },
  {
   "cell_type": "code",
   "execution_count": 3,
   "id": "09898b51",
   "metadata": {},
   "outputs": [
    {
     "data": {
      "text/plain": [
       "0.17008"
      ]
     },
     "execution_count": 3,
     "metadata": {},
     "output_type": "execute_result"
    }
   ],
   "source": [
    "# How likely is it that you roll doubles when rolling two dice?\n",
    "rolls = pd.DataFrame(np.random.randint(1,7, size = (10**5, 2)))\n",
    "doubles = rolls.apply(lambda row: row.values[0] ==row.values[1], axis =1)\n",
    "doubles.mean()"
   ]
  },
  {
   "cell_type": "code",
   "execution_count": 83,
   "id": "ebadabe5",
   "metadata": {},
   "outputs": [
    {
     "data": {
      "text/plain": [
       "0.1648"
      ]
     },
     "execution_count": 83,
     "metadata": {},
     "output_type": "execute_result"
    }
   ],
   "source": [
    "# Trying to validate answer, I found another method\n",
    "df=pd.DataFrame()\n",
    "df['x'] = np.random.randint(1,7,10000)\n",
    "df['y'] = np.random.randint(1,7,10000)\n",
    "(df.x==df.y).mean()"
   ]
  },
  {
   "cell_type": "markdown",
   "id": "781fe244",
   "metadata": {},
   "source": [
    "### 2. If you flip 8 coins, what is the probability of getting exactly 3 heads? What is the probability of getting more than 3 heads?"
   ]
  },
  {
   "cell_type": "code",
   "execution_count": 6,
   "id": "bfbc7c41",
   "metadata": {},
   "outputs": [
    {
     "data": {
      "text/html": [
       "<div>\n",
       "<style scoped>\n",
       "    .dataframe tbody tr th:only-of-type {\n",
       "        vertical-align: middle;\n",
       "    }\n",
       "\n",
       "    .dataframe tbody tr th {\n",
       "        vertical-align: top;\n",
       "    }\n",
       "\n",
       "    .dataframe thead th {\n",
       "        text-align: right;\n",
       "    }\n",
       "</style>\n",
       "<table border=\"1\" class=\"dataframe\">\n",
       "  <thead>\n",
       "    <tr style=\"text-align: right;\">\n",
       "      <th></th>\n",
       "      <th>0</th>\n",
       "      <th>1</th>\n",
       "      <th>2</th>\n",
       "      <th>3</th>\n",
       "      <th>4</th>\n",
       "      <th>5</th>\n",
       "      <th>6</th>\n",
       "      <th>7</th>\n",
       "    </tr>\n",
       "  </thead>\n",
       "  <tbody>\n",
       "    <tr>\n",
       "      <th>91</th>\n",
       "      <td>0</td>\n",
       "      <td>0</td>\n",
       "      <td>0</td>\n",
       "      <td>1</td>\n",
       "      <td>1</td>\n",
       "      <td>1</td>\n",
       "      <td>0</td>\n",
       "      <td>0</td>\n",
       "    </tr>\n",
       "    <tr>\n",
       "      <th>7364</th>\n",
       "      <td>1</td>\n",
       "      <td>0</td>\n",
       "      <td>1</td>\n",
       "      <td>1</td>\n",
       "      <td>1</td>\n",
       "      <td>0</td>\n",
       "      <td>1</td>\n",
       "      <td>1</td>\n",
       "    </tr>\n",
       "    <tr>\n",
       "      <th>3559</th>\n",
       "      <td>1</td>\n",
       "      <td>0</td>\n",
       "      <td>0</td>\n",
       "      <td>1</td>\n",
       "      <td>0</td>\n",
       "      <td>1</td>\n",
       "      <td>1</td>\n",
       "      <td>0</td>\n",
       "    </tr>\n",
       "    <tr>\n",
       "      <th>9274</th>\n",
       "      <td>1</td>\n",
       "      <td>1</td>\n",
       "      <td>1</td>\n",
       "      <td>0</td>\n",
       "      <td>1</td>\n",
       "      <td>1</td>\n",
       "      <td>1</td>\n",
       "      <td>1</td>\n",
       "    </tr>\n",
       "    <tr>\n",
       "      <th>5968</th>\n",
       "      <td>1</td>\n",
       "      <td>1</td>\n",
       "      <td>0</td>\n",
       "      <td>1</td>\n",
       "      <td>0</td>\n",
       "      <td>1</td>\n",
       "      <td>1</td>\n",
       "      <td>0</td>\n",
       "    </tr>\n",
       "    <tr>\n",
       "      <th>8235</th>\n",
       "      <td>0</td>\n",
       "      <td>0</td>\n",
       "      <td>0</td>\n",
       "      <td>0</td>\n",
       "      <td>0</td>\n",
       "      <td>0</td>\n",
       "      <td>1</td>\n",
       "      <td>0</td>\n",
       "    </tr>\n",
       "    <tr>\n",
       "      <th>156</th>\n",
       "      <td>1</td>\n",
       "      <td>1</td>\n",
       "      <td>0</td>\n",
       "      <td>1</td>\n",
       "      <td>0</td>\n",
       "      <td>1</td>\n",
       "      <td>0</td>\n",
       "      <td>1</td>\n",
       "    </tr>\n",
       "    <tr>\n",
       "      <th>1841</th>\n",
       "      <td>0</td>\n",
       "      <td>0</td>\n",
       "      <td>1</td>\n",
       "      <td>0</td>\n",
       "      <td>0</td>\n",
       "      <td>1</td>\n",
       "      <td>1</td>\n",
       "      <td>1</td>\n",
       "    </tr>\n",
       "    <tr>\n",
       "      <th>2026</th>\n",
       "      <td>1</td>\n",
       "      <td>1</td>\n",
       "      <td>0</td>\n",
       "      <td>0</td>\n",
       "      <td>0</td>\n",
       "      <td>1</td>\n",
       "      <td>1</td>\n",
       "      <td>1</td>\n",
       "    </tr>\n",
       "    <tr>\n",
       "      <th>2934</th>\n",
       "      <td>1</td>\n",
       "      <td>0</td>\n",
       "      <td>1</td>\n",
       "      <td>0</td>\n",
       "      <td>1</td>\n",
       "      <td>0</td>\n",
       "      <td>1</td>\n",
       "      <td>0</td>\n",
       "    </tr>\n",
       "  </tbody>\n",
       "</table>\n",
       "</div>"
      ],
      "text/plain": [
       "      0  1  2  3  4  5  6  7\n",
       "91    0  0  0  1  1  1  0  0\n",
       "7364  1  0  1  1  1  0  1  1\n",
       "3559  1  0  0  1  0  1  1  0\n",
       "9274  1  1  1  0  1  1  1  1\n",
       "5968  1  1  0  1  0  1  1  0\n",
       "8235  0  0  0  0  0  0  1  0\n",
       "156   1  1  0  1  0  1  0  1\n",
       "1841  0  0  1  0  0  1  1  1\n",
       "2026  1  1  0  0  0  1  1  1\n",
       "2934  1  0  1  0  1  0  1  0"
      ]
     },
     "execution_count": 6,
     "metadata": {},
     "output_type": "execute_result"
    }
   ],
   "source": [
    "flips = pd.DataFrame(np.random.randint(2, size = (10000, 8)))\n",
    "flips.sample (10)"
   ]
  },
  {
   "cell_type": "code",
   "execution_count": 8,
   "id": "b2659f28",
   "metadata": {},
   "outputs": [
    {
     "data": {
      "text/plain": [
       "0.2207"
      ]
     },
     "execution_count": 8,
     "metadata": {},
     "output_type": "execute_result"
    }
   ],
   "source": [
    "#3 heads\n",
    "(flips.sum(axis =1)==3).mean()"
   ]
  },
  {
   "cell_type": "code",
   "execution_count": 11,
   "id": "05e6e21a",
   "metadata": {},
   "outputs": [
    {
     "data": {
      "text/plain": [
       "0.8555"
      ]
     },
     "execution_count": 11,
     "metadata": {},
     "output_type": "execute_result"
    }
   ],
   "source": [
    "# >3\n",
    "(flips.sum(axis =1)>=3).mean()"
   ]
  },
  {
   "cell_type": "markdown",
   "id": "a693fcea",
   "metadata": {},
   "source": [
    "### 3. There are approximitely 3 web development cohorts for every 1 data science cohort at Codeup. Assuming that Codeup randomly selects an alumni to put on a billboard, what are the odds that the two billboards I drive past both have data science students on them?"
   ]
  },
  {
   "cell_type": "code",
   "execution_count": 12,
   "id": "77c85a94",
   "metadata": {},
   "outputs": [
    {
     "data": {
      "text/html": [
       "<div>\n",
       "<style scoped>\n",
       "    .dataframe tbody tr th:only-of-type {\n",
       "        vertical-align: middle;\n",
       "    }\n",
       "\n",
       "    .dataframe tbody tr th {\n",
       "        vertical-align: top;\n",
       "    }\n",
       "\n",
       "    .dataframe thead th {\n",
       "        text-align: right;\n",
       "    }\n",
       "</style>\n",
       "<table border=\"1\" class=\"dataframe\">\n",
       "  <thead>\n",
       "    <tr style=\"text-align: right;\">\n",
       "      <th></th>\n",
       "      <th>0</th>\n",
       "      <th>1</th>\n",
       "    </tr>\n",
       "  </thead>\n",
       "  <tbody>\n",
       "    <tr>\n",
       "      <th>0</th>\n",
       "      <td>data</td>\n",
       "      <td>web</td>\n",
       "    </tr>\n",
       "    <tr>\n",
       "      <th>1</th>\n",
       "      <td>web</td>\n",
       "      <td>data</td>\n",
       "    </tr>\n",
       "    <tr>\n",
       "      <th>2</th>\n",
       "      <td>web</td>\n",
       "      <td>web</td>\n",
       "    </tr>\n",
       "    <tr>\n",
       "      <th>3</th>\n",
       "      <td>data</td>\n",
       "      <td>web</td>\n",
       "    </tr>\n",
       "    <tr>\n",
       "      <th>4</th>\n",
       "      <td>web</td>\n",
       "      <td>web</td>\n",
       "    </tr>\n",
       "  </tbody>\n",
       "</table>\n",
       "</div>"
      ],
      "text/plain": [
       "      0     1\n",
       "0  data   web\n",
       "1   web  data\n",
       "2   web   web\n",
       "3  data   web\n",
       "4   web   web"
      ]
     },
     "execution_count": 12,
     "metadata": {},
     "output_type": "execute_result"
    }
   ],
   "source": [
    "boards = pd.DataFrame(np.random.choice(['web','web','web','data'], size = (10000, 2)))\n",
    "boards.head()"
   ]
  },
  {
   "cell_type": "code",
   "execution_count": 15,
   "id": "fb71e18a",
   "metadata": {},
   "outputs": [
    {
     "data": {
      "text/plain": [
       "0.6287"
      ]
     },
     "execution_count": 15,
     "metadata": {},
     "output_type": "execute_result"
    }
   ],
   "source": [
    "double_boards = boards.apply(lambda row: row.values[0] ==row.values[1], axis =1)\n",
    "double_boards.mean()"
   ]
  },
  {
   "cell_type": "code",
   "execution_count": 18,
   "id": "c76d8cb5",
   "metadata": {},
   "outputs": [
    {
     "data": {
      "text/plain": [
       "0.0617"
      ]
     },
     "execution_count": 18,
     "metadata": {},
     "output_type": "execute_result"
    }
   ],
   "source": [
    "# 63% cannot be right... for 1/4 of the data science.... recaluclating\n",
    "boards = pd.DataFrame(np.random.choice(['web','data'], p=[.75,.25], size = (10000,2)))\n",
    "double_boards = boards.apply(lambda row: row.values[0]==row.values[1]=='data', axis = 1)\n",
    "double_boards.mean()"
   ]
  },
  {
   "cell_type": "markdown",
   "id": "7ffd8f63",
   "metadata": {},
   "source": [
    "### 4. Codeup students buy, on average, 3 poptart packages with a standard deviation of 1.5 a day from the snack vending machine. If on monday the machine is restocked with 17 poptart packages, how likely is it that I will be able to buy some poptarts on Friday afternoon? (Remember, if you have mean and standard deviation, use the np.random.normal) You'll need to make a judgement call on how to handle some of your values`"
   ]
  },
  {
   "cell_type": "code",
   "execution_count": 20,
   "id": "d3fb2548",
   "metadata": {},
   "outputs": [
    {
     "data": {
      "text/html": [
       "<div>\n",
       "<style scoped>\n",
       "    .dataframe tbody tr th:only-of-type {\n",
       "        vertical-align: middle;\n",
       "    }\n",
       "\n",
       "    .dataframe tbody tr th {\n",
       "        vertical-align: top;\n",
       "    }\n",
       "\n",
       "    .dataframe thead th {\n",
       "        text-align: right;\n",
       "    }\n",
       "</style>\n",
       "<table border=\"1\" class=\"dataframe\">\n",
       "  <thead>\n",
       "    <tr style=\"text-align: right;\">\n",
       "      <th></th>\n",
       "      <th>0</th>\n",
       "      <th>1</th>\n",
       "      <th>2</th>\n",
       "      <th>3</th>\n",
       "      <th>4</th>\n",
       "    </tr>\n",
       "  </thead>\n",
       "  <tbody>\n",
       "    <tr>\n",
       "      <th>0</th>\n",
       "      <td>2.838621</td>\n",
       "      <td>1.367750</td>\n",
       "      <td>2.407687</td>\n",
       "      <td>3.724961</td>\n",
       "      <td>4.394565</td>\n",
       "    </tr>\n",
       "    <tr>\n",
       "      <th>1</th>\n",
       "      <td>4.300996</td>\n",
       "      <td>1.511801</td>\n",
       "      <td>1.386129</td>\n",
       "      <td>5.111027</td>\n",
       "      <td>0.929672</td>\n",
       "    </tr>\n",
       "    <tr>\n",
       "      <th>2</th>\n",
       "      <td>4.843158</td>\n",
       "      <td>3.938183</td>\n",
       "      <td>2.648271</td>\n",
       "      <td>5.359113</td>\n",
       "      <td>0.680682</td>\n",
       "    </tr>\n",
       "    <tr>\n",
       "      <th>3</th>\n",
       "      <td>2.400949</td>\n",
       "      <td>2.207372</td>\n",
       "      <td>0.988725</td>\n",
       "      <td>-0.005978</td>\n",
       "      <td>3.389985</td>\n",
       "    </tr>\n",
       "    <tr>\n",
       "      <th>4</th>\n",
       "      <td>5.654326</td>\n",
       "      <td>3.584432</td>\n",
       "      <td>4.204105</td>\n",
       "      <td>-0.659579</td>\n",
       "      <td>4.517262</td>\n",
       "    </tr>\n",
       "  </tbody>\n",
       "</table>\n",
       "</div>"
      ],
      "text/plain": [
       "          0         1         2         3         4\n",
       "0  2.838621  1.367750  2.407687  3.724961  4.394565\n",
       "1  4.300996  1.511801  1.386129  5.111027  0.929672\n",
       "2  4.843158  3.938183  2.648271  5.359113  0.680682\n",
       "3  2.400949  2.207372  0.988725 -0.005978  3.389985\n",
       "4  5.654326  3.584432  4.204105 -0.659579  4.517262"
      ]
     },
     "execution_count": 20,
     "metadata": {},
     "output_type": "execute_result"
    }
   ],
   "source": [
    "pops = pd.DataFrame(np.random.normal(3, 1.5, size = (10**5, 5)))\n",
    "pops.head()"
   ]
  },
  {
   "cell_type": "code",
   "execution_count": 51,
   "id": "539dcd47",
   "metadata": {},
   "outputs": [
    {
     "data": {
      "text/plain": [
       "0.72573"
      ]
     },
     "execution_count": 51,
     "metadata": {},
     "output_type": "execute_result"
    }
   ],
   "source": [
    "(pops.sum(axis = 1)<17).mean()"
   ]
  },
  {
   "cell_type": "code",
   "execution_count": 50,
   "id": "d5cf862a",
   "metadata": {},
   "outputs": [
    {
     "data": {
      "text/plain": [
       "0.616"
      ]
     },
     "execution_count": 50,
     "metadata": {},
     "output_type": "execute_result"
    }
   ],
   "source": [
    "buys = np.random.normal(3, 1.5, size = (10000,5))\n",
    "buys = np.where(buys<0,0,buys)\n",
    "(buys.sum(axis =1) <=16).mean()"
   ]
  },
  {
   "cell_type": "markdown",
   "id": "2285b16b",
   "metadata": {},
   "source": [
    "5. Compare Heights\n",
    "- Men have an average height of 178 cm and standard deviation of 8cm.\n",
    "- Women have a mean of 170, sd = 6cm.\n",
    "- Since you have means and standard deviations, you can use np.random.normal to generate observations.\n",
    "- If a man and woman are chosen at random, what is the likelihood the woman is taller than the man?"
   ]
  },
  {
   "cell_type": "code",
   "execution_count": 25,
   "id": "332518b2",
   "metadata": {},
   "outputs": [],
   "source": [
    "male_heights = pd.DataFrame(np.random.normal(178,8, size = 10000))\n",
    "female_heights = pd.DataFrame(np.random.normal(170, 6, size = 10000))"
   ]
  },
  {
   "cell_type": "markdown",
   "id": "38288281",
   "metadata": {},
   "source": [
    "### If a man and woman are chosen at random, what is the likelihood the woman is taller than the man?"
   ]
  },
  {
   "cell_type": "code",
   "execution_count": 28,
   "id": "b258e03e",
   "metadata": {},
   "outputs": [
    {
     "data": {
      "text/plain": [
       "0    0.2153\n",
       "dtype: float64"
      ]
     },
     "execution_count": 28,
     "metadata": {},
     "output_type": "execute_result"
    }
   ],
   "source": [
    "height_dif = female_heights>male_heights\n",
    "height_dif.mean()"
   ]
  },
  {
   "cell_type": "markdown",
   "id": "1ad513ec",
   "metadata": {},
   "source": [
    "6. When installing anaconda on a student's computer, there's a 1 in 250 chance that the download is corrupted and the installation fails. What are the odds that after having 50 students download anaconda, no one has an installation issue? 100 students?\n",
    "- What is the probability that we observe an installation issue within the first 150 students that download anaconda?\n",
    "- How likely is it that 450 students all download anaconda without an issue?"
   ]
  },
  {
   "cell_type": "code",
   "execution_count": 37,
   "id": "a91820fb",
   "metadata": {},
   "outputs": [],
   "source": [
    "def corrupted(x):\n",
    "    install = pd.DataFrame(np.random.choice([True,False],\n",
    "                                            p=[1/250, 249/250],\n",
    "                                            size = (10000, x)))\n",
    "    return(install.sum(axis = 1)==0).mean()"
   ]
  },
  {
   "cell_type": "code",
   "execution_count": 38,
   "id": "1eb13759",
   "metadata": {},
   "outputs": [
    {
     "data": {
      "text/plain": [
       "0.8224"
      ]
     },
     "execution_count": 38,
     "metadata": {},
     "output_type": "execute_result"
    }
   ],
   "source": [
    "#What are the odds that after having 50 students download anaconda?\n",
    "student_50 = corrupted(50)\n",
    "student_50"
   ]
  },
  {
   "cell_type": "code",
   "execution_count": 39,
   "id": "79139ca7",
   "metadata": {},
   "outputs": [
    {
     "data": {
      "text/plain": [
       "0.6657"
      ]
     },
     "execution_count": 39,
     "metadata": {},
     "output_type": "execute_result"
    }
   ],
   "source": [
    "# What are the odds that after having 100 students download anaconda?\n",
    "student_100 = corrupted(100)\n",
    "student_100"
   ]
  },
  {
   "cell_type": "code",
   "execution_count": 40,
   "id": "6bebedda",
   "metadata": {},
   "outputs": [
    {
     "data": {
      "text/html": [
       "<div>\n",
       "<style scoped>\n",
       "    .dataframe tbody tr th:only-of-type {\n",
       "        vertical-align: middle;\n",
       "    }\n",
       "\n",
       "    .dataframe tbody tr th {\n",
       "        vertical-align: top;\n",
       "    }\n",
       "\n",
       "    .dataframe thead th {\n",
       "        text-align: right;\n",
       "    }\n",
       "</style>\n",
       "<table border=\"1\" class=\"dataframe\">\n",
       "  <thead>\n",
       "    <tr style=\"text-align: right;\">\n",
       "      <th></th>\n",
       "      <th>0</th>\n",
       "    </tr>\n",
       "  </thead>\n",
       "  <tbody>\n",
       "    <tr>\n",
       "      <th>0</th>\n",
       "      <td>0.073244</td>\n",
       "    </tr>\n",
       "    <tr>\n",
       "      <th>1</th>\n",
       "      <td>0.241681</td>\n",
       "    </tr>\n",
       "    <tr>\n",
       "      <th>2</th>\n",
       "      <td>0.273684</td>\n",
       "    </tr>\n",
       "    <tr>\n",
       "      <th>3</th>\n",
       "      <td>0.844778</td>\n",
       "    </tr>\n",
       "    <tr>\n",
       "      <th>4</th>\n",
       "      <td>0.488123</td>\n",
       "    </tr>\n",
       "  </tbody>\n",
       "</table>\n",
       "</div>"
      ],
      "text/plain": [
       "          0\n",
       "0  0.073244\n",
       "1  0.241681\n",
       "2  0.273684\n",
       "3  0.844778\n",
       "4  0.488123"
      ]
     },
     "execution_count": 40,
     "metadata": {},
     "output_type": "execute_result"
    }
   ],
   "source": [
    "first_150 = pd.DataFrame(np.random.random(size = 150))\n",
    "first_150.head()"
   ]
  },
  {
   "cell_type": "code",
   "execution_count": 41,
   "id": "b91cc847",
   "metadata": {},
   "outputs": [
    {
     "data": {
      "text/plain": [
       "0.44689999999999996"
      ]
     },
     "execution_count": 41,
     "metadata": {},
     "output_type": "execute_result"
    }
   ],
   "source": [
    "# What is the probability that we observe an installation issue within the first 150 students that download anaconda?\n",
    "1-corrupted(150)"
   ]
  },
  {
   "cell_type": "code",
   "execution_count": 42,
   "id": "1e0a9cd0",
   "metadata": {},
   "outputs": [
    {
     "data": {
      "text/plain": [
       "0.1646"
      ]
     },
     "execution_count": 42,
     "metadata": {},
     "output_type": "execute_result"
    }
   ],
   "source": [
    "# How likely is it that 450 students all download anaconda without an issue?\n",
    "corrupted(450)"
   ]
  },
  {
   "cell_type": "markdown",
   "id": "a70fa627",
   "metadata": {},
   "source": [
    "7. There's a 70% chance on any given day that there will be at least one food truck at Travis Park. However, you haven't seen a food truck there in 3 days. How unlikely is this?\n",
    "- How likely is it that a food truck will show up sometime this week?"
   ]
  },
  {
   "cell_type": "code",
   "execution_count": 58,
   "id": "7568042c",
   "metadata": {},
   "outputs": [
    {
     "data": {
      "text/html": [
       "<div>\n",
       "<style scoped>\n",
       "    .dataframe tbody tr th:only-of-type {\n",
       "        vertical-align: middle;\n",
       "    }\n",
       "\n",
       "    .dataframe tbody tr th {\n",
       "        vertical-align: top;\n",
       "    }\n",
       "\n",
       "    .dataframe thead th {\n",
       "        text-align: right;\n",
       "    }\n",
       "</style>\n",
       "<table border=\"1\" class=\"dataframe\">\n",
       "  <thead>\n",
       "    <tr style=\"text-align: right;\">\n",
       "      <th></th>\n",
       "      <th>0</th>\n",
       "      <th>1</th>\n",
       "      <th>2</th>\n",
       "    </tr>\n",
       "  </thead>\n",
       "  <tbody>\n",
       "    <tr>\n",
       "      <th>0</th>\n",
       "      <td>0.537994</td>\n",
       "      <td>0.761262</td>\n",
       "      <td>0.900889</td>\n",
       "    </tr>\n",
       "    <tr>\n",
       "      <th>1</th>\n",
       "      <td>0.824634</td>\n",
       "      <td>0.218800</td>\n",
       "      <td>0.999972</td>\n",
       "    </tr>\n",
       "    <tr>\n",
       "      <th>2</th>\n",
       "      <td>0.509723</td>\n",
       "      <td>0.742255</td>\n",
       "      <td>0.072245</td>\n",
       "    </tr>\n",
       "    <tr>\n",
       "      <th>3</th>\n",
       "      <td>0.259166</td>\n",
       "      <td>0.365816</td>\n",
       "      <td>0.514010</td>\n",
       "    </tr>\n",
       "    <tr>\n",
       "      <th>4</th>\n",
       "      <td>0.131237</td>\n",
       "      <td>0.298331</td>\n",
       "      <td>0.674478</td>\n",
       "    </tr>\n",
       "  </tbody>\n",
       "</table>\n",
       "</div>"
      ],
      "text/plain": [
       "          0         1         2\n",
       "0  0.537994  0.761262  0.900889\n",
       "1  0.824634  0.218800  0.999972\n",
       "2  0.509723  0.742255  0.072245\n",
       "3  0.259166  0.365816  0.514010\n",
       "4  0.131237  0.298331  0.674478"
      ]
     },
     "execution_count": 58,
     "metadata": {},
     "output_type": "execute_result"
    }
   ],
   "source": [
    "trucks = pd.DataFrame(np.random.rand(10000, 3))\n",
    "trucks.head()"
   ]
  },
  {
   "cell_type": "code",
   "execution_count": 68,
   "id": "5e56b31b",
   "metadata": {},
   "outputs": [
    {
     "data": {
      "text/plain": [
       "0.027"
      ]
     },
     "execution_count": 68,
     "metadata": {},
     "output_type": "execute_result"
    }
   ],
   "source": [
    "#. Mental Math\n",
    ".3*.3*.3"
   ]
  },
  {
   "cell_type": "code",
   "execution_count": 59,
   "id": "3ac0e921",
   "metadata": {},
   "outputs": [
    {
     "data": {
      "text/plain": [
       "0.028"
      ]
     },
     "execution_count": 59,
     "metadata": {},
     "output_type": "execute_result"
    }
   ],
   "source": [
    "((trucks>.7).sum(axis = 1)==3).mean()"
   ]
  },
  {
   "cell_type": "code",
   "execution_count": 64,
   "id": "8b935520",
   "metadata": {},
   "outputs": [
    {
     "data": {
      "text/html": [
       "<div>\n",
       "<style scoped>\n",
       "    .dataframe tbody tr th:only-of-type {\n",
       "        vertical-align: middle;\n",
       "    }\n",
       "\n",
       "    .dataframe tbody tr th {\n",
       "        vertical-align: top;\n",
       "    }\n",
       "\n",
       "    .dataframe thead th {\n",
       "        text-align: right;\n",
       "    }\n",
       "</style>\n",
       "<table border=\"1\" class=\"dataframe\">\n",
       "  <thead>\n",
       "    <tr style=\"text-align: right;\">\n",
       "      <th></th>\n",
       "      <th>0</th>\n",
       "      <th>1</th>\n",
       "      <th>2</th>\n",
       "      <th>3</th>\n",
       "      <th>4</th>\n",
       "      <th>5</th>\n",
       "      <th>6</th>\n",
       "    </tr>\n",
       "  </thead>\n",
       "  <tbody>\n",
       "    <tr>\n",
       "      <th>0</th>\n",
       "      <td>0.507612</td>\n",
       "      <td>0.337603</td>\n",
       "      <td>0.791542</td>\n",
       "      <td>0.193114</td>\n",
       "      <td>0.451196</td>\n",
       "      <td>0.520327</td>\n",
       "      <td>0.279728</td>\n",
       "    </tr>\n",
       "    <tr>\n",
       "      <th>1</th>\n",
       "      <td>0.716573</td>\n",
       "      <td>0.657619</td>\n",
       "      <td>0.748700</td>\n",
       "      <td>0.601959</td>\n",
       "      <td>0.024723</td>\n",
       "      <td>0.263722</td>\n",
       "      <td>0.819820</td>\n",
       "    </tr>\n",
       "    <tr>\n",
       "      <th>2</th>\n",
       "      <td>0.382890</td>\n",
       "      <td>0.195892</td>\n",
       "      <td>0.998049</td>\n",
       "      <td>0.307016</td>\n",
       "      <td>0.291078</td>\n",
       "      <td>0.891701</td>\n",
       "      <td>0.090641</td>\n",
       "    </tr>\n",
       "    <tr>\n",
       "      <th>3</th>\n",
       "      <td>0.924380</td>\n",
       "      <td>0.487909</td>\n",
       "      <td>0.598040</td>\n",
       "      <td>0.612848</td>\n",
       "      <td>0.263410</td>\n",
       "      <td>0.232036</td>\n",
       "      <td>0.127542</td>\n",
       "    </tr>\n",
       "    <tr>\n",
       "      <th>4</th>\n",
       "      <td>0.113985</td>\n",
       "      <td>0.824628</td>\n",
       "      <td>0.636838</td>\n",
       "      <td>0.984219</td>\n",
       "      <td>0.070853</td>\n",
       "      <td>0.494406</td>\n",
       "      <td>0.603763</td>\n",
       "    </tr>\n",
       "  </tbody>\n",
       "</table>\n",
       "</div>"
      ],
      "text/plain": [
       "          0         1         2         3         4         5         6\n",
       "0  0.507612  0.337603  0.791542  0.193114  0.451196  0.520327  0.279728\n",
       "1  0.716573  0.657619  0.748700  0.601959  0.024723  0.263722  0.819820\n",
       "2  0.382890  0.195892  0.998049  0.307016  0.291078  0.891701  0.090641\n",
       "3  0.924380  0.487909  0.598040  0.612848  0.263410  0.232036  0.127542\n",
       "4  0.113985  0.824628  0.636838  0.984219  0.070853  0.494406  0.603763"
      ]
     },
     "execution_count": 64,
     "metadata": {},
     "output_type": "execute_result"
    }
   ],
   "source": [
    "trucks_7 = pd.DataFrame(np.random.rand(10000, 7))\n",
    "trucks_7.head()"
   ]
  },
  {
   "cell_type": "code",
   "execution_count": 65,
   "id": "f308f2a1",
   "metadata": {},
   "outputs": [
    {
     "data": {
      "text/plain": [
       "0.662"
      ]
     },
     "execution_count": 65,
     "metadata": {},
     "output_type": "execute_result"
    }
   ],
   "source": [
    "((trucks>.7).sum(axis =1)>=1).mean()"
   ]
  },
  {
   "cell_type": "code",
   "execution_count": 78,
   "id": "88bb6d20",
   "metadata": {},
   "outputs": [
    {
     "data": {
      "text/plain": [
       "0.9176457"
      ]
     },
     "execution_count": 78,
     "metadata": {},
     "output_type": "execute_result"
    }
   ],
   "source": [
    "# Mental Math\n",
    "1-(.7*.7*.7*.7*.7*.7*.7)"
   ]
  },
  {
   "cell_type": "code",
   "execution_count": 79,
   "id": "677661d3",
   "metadata": {},
   "outputs": [
    {
     "data": {
      "text/plain": [
       "2.0907"
      ]
     },
     "execution_count": 79,
     "metadata": {},
     "output_type": "execute_result"
    }
   ],
   "source": [
    "# Original answer of .662 is not as close as I assumed it would be... trying another method\n",
    "food_truck = pd.DataFrame(np.random.choice([True,False],\n",
    "                                            p=[.7, .3],\n",
    "                                            size = (10000, 3)))\n",
    "(food_truck==True).sum(axis = 1).mean()"
   ]
  },
  {
   "cell_type": "code",
   "execution_count": 80,
   "id": "a7c5ff98",
   "metadata": {},
   "outputs": [
    {
     "data": {
      "text/plain": [
       "0.9718"
      ]
     },
     "execution_count": 80,
     "metadata": {},
     "output_type": "execute_result"
    }
   ],
   "source": [
    "# Originally did it with sum but got answer below - not sure why \".any\" works but \".sum\" gives you 2.11\n",
    "(food_truck==True).any(axis = 1).mean()"
   ]
  },
  {
   "cell_type": "markdown",
   "id": "e9e87ad4",
   "metadata": {},
   "source": [
    "8. If 23 people are in the same room, what are the odds that two of them share a birthday? What if it's 20 people? 40?"
   ]
  },
  {
   "cell_type": "code",
   "execution_count": 90,
   "id": "271a47cd",
   "metadata": {},
   "outputs": [],
   "source": [
    "b_days = np.random.randint(1,366, size = (10000, 23))\n",
    "df = pd.DataFrame(b_days)"
   ]
  },
  {
   "cell_type": "code",
   "execution_count": 91,
   "id": "5ff449da",
   "metadata": {},
   "outputs": [
    {
     "data": {
      "text/html": [
       "<div>\n",
       "<style scoped>\n",
       "    .dataframe tbody tr th:only-of-type {\n",
       "        vertical-align: middle;\n",
       "    }\n",
       "\n",
       "    .dataframe tbody tr th {\n",
       "        vertical-align: top;\n",
       "    }\n",
       "\n",
       "    .dataframe thead th {\n",
       "        text-align: right;\n",
       "    }\n",
       "</style>\n",
       "<table border=\"1\" class=\"dataframe\">\n",
       "  <thead>\n",
       "    <tr style=\"text-align: right;\">\n",
       "      <th></th>\n",
       "      <th>0</th>\n",
       "      <th>1</th>\n",
       "      <th>2</th>\n",
       "      <th>3</th>\n",
       "      <th>4</th>\n",
       "      <th>5</th>\n",
       "      <th>6</th>\n",
       "      <th>7</th>\n",
       "      <th>8</th>\n",
       "      <th>9</th>\n",
       "      <th>...</th>\n",
       "      <th>13</th>\n",
       "      <th>14</th>\n",
       "      <th>15</th>\n",
       "      <th>16</th>\n",
       "      <th>17</th>\n",
       "      <th>18</th>\n",
       "      <th>19</th>\n",
       "      <th>20</th>\n",
       "      <th>21</th>\n",
       "      <th>22</th>\n",
       "    </tr>\n",
       "  </thead>\n",
       "  <tbody>\n",
       "    <tr>\n",
       "      <th>0</th>\n",
       "      <td>68</td>\n",
       "      <td>38</td>\n",
       "      <td>343</td>\n",
       "      <td>109</td>\n",
       "      <td>250</td>\n",
       "      <td>26</td>\n",
       "      <td>225</td>\n",
       "      <td>289</td>\n",
       "      <td>164</td>\n",
       "      <td>175</td>\n",
       "      <td>...</td>\n",
       "      <td>176</td>\n",
       "      <td>187</td>\n",
       "      <td>319</td>\n",
       "      <td>42</td>\n",
       "      <td>165</td>\n",
       "      <td>338</td>\n",
       "      <td>241</td>\n",
       "      <td>328</td>\n",
       "      <td>291</td>\n",
       "      <td>103</td>\n",
       "    </tr>\n",
       "    <tr>\n",
       "      <th>1</th>\n",
       "      <td>173</td>\n",
       "      <td>112</td>\n",
       "      <td>211</td>\n",
       "      <td>182</td>\n",
       "      <td>141</td>\n",
       "      <td>314</td>\n",
       "      <td>198</td>\n",
       "      <td>17</td>\n",
       "      <td>301</td>\n",
       "      <td>161</td>\n",
       "      <td>...</td>\n",
       "      <td>157</td>\n",
       "      <td>208</td>\n",
       "      <td>129</td>\n",
       "      <td>212</td>\n",
       "      <td>210</td>\n",
       "      <td>5</td>\n",
       "      <td>109</td>\n",
       "      <td>34</td>\n",
       "      <td>290</td>\n",
       "      <td>150</td>\n",
       "    </tr>\n",
       "    <tr>\n",
       "      <th>2</th>\n",
       "      <td>299</td>\n",
       "      <td>283</td>\n",
       "      <td>320</td>\n",
       "      <td>258</td>\n",
       "      <td>295</td>\n",
       "      <td>102</td>\n",
       "      <td>173</td>\n",
       "      <td>234</td>\n",
       "      <td>221</td>\n",
       "      <td>4</td>\n",
       "      <td>...</td>\n",
       "      <td>68</td>\n",
       "      <td>191</td>\n",
       "      <td>317</td>\n",
       "      <td>307</td>\n",
       "      <td>312</td>\n",
       "      <td>63</td>\n",
       "      <td>171</td>\n",
       "      <td>175</td>\n",
       "      <td>273</td>\n",
       "      <td>228</td>\n",
       "    </tr>\n",
       "    <tr>\n",
       "      <th>3</th>\n",
       "      <td>331</td>\n",
       "      <td>168</td>\n",
       "      <td>176</td>\n",
       "      <td>303</td>\n",
       "      <td>139</td>\n",
       "      <td>58</td>\n",
       "      <td>192</td>\n",
       "      <td>235</td>\n",
       "      <td>273</td>\n",
       "      <td>280</td>\n",
       "      <td>...</td>\n",
       "      <td>95</td>\n",
       "      <td>63</td>\n",
       "      <td>99</td>\n",
       "      <td>158</td>\n",
       "      <td>64</td>\n",
       "      <td>192</td>\n",
       "      <td>39</td>\n",
       "      <td>68</td>\n",
       "      <td>253</td>\n",
       "      <td>286</td>\n",
       "    </tr>\n",
       "    <tr>\n",
       "      <th>4</th>\n",
       "      <td>191</td>\n",
       "      <td>24</td>\n",
       "      <td>171</td>\n",
       "      <td>326</td>\n",
       "      <td>43</td>\n",
       "      <td>27</td>\n",
       "      <td>185</td>\n",
       "      <td>347</td>\n",
       "      <td>135</td>\n",
       "      <td>156</td>\n",
       "      <td>...</td>\n",
       "      <td>70</td>\n",
       "      <td>194</td>\n",
       "      <td>141</td>\n",
       "      <td>1</td>\n",
       "      <td>165</td>\n",
       "      <td>227</td>\n",
       "      <td>231</td>\n",
       "      <td>345</td>\n",
       "      <td>25</td>\n",
       "      <td>360</td>\n",
       "    </tr>\n",
       "    <tr>\n",
       "      <th>...</th>\n",
       "      <td>...</td>\n",
       "      <td>...</td>\n",
       "      <td>...</td>\n",
       "      <td>...</td>\n",
       "      <td>...</td>\n",
       "      <td>...</td>\n",
       "      <td>...</td>\n",
       "      <td>...</td>\n",
       "      <td>...</td>\n",
       "      <td>...</td>\n",
       "      <td>...</td>\n",
       "      <td>...</td>\n",
       "      <td>...</td>\n",
       "      <td>...</td>\n",
       "      <td>...</td>\n",
       "      <td>...</td>\n",
       "      <td>...</td>\n",
       "      <td>...</td>\n",
       "      <td>...</td>\n",
       "      <td>...</td>\n",
       "      <td>...</td>\n",
       "    </tr>\n",
       "    <tr>\n",
       "      <th>9995</th>\n",
       "      <td>308</td>\n",
       "      <td>55</td>\n",
       "      <td>69</td>\n",
       "      <td>196</td>\n",
       "      <td>324</td>\n",
       "      <td>191</td>\n",
       "      <td>197</td>\n",
       "      <td>76</td>\n",
       "      <td>298</td>\n",
       "      <td>341</td>\n",
       "      <td>...</td>\n",
       "      <td>175</td>\n",
       "      <td>296</td>\n",
       "      <td>125</td>\n",
       "      <td>364</td>\n",
       "      <td>355</td>\n",
       "      <td>332</td>\n",
       "      <td>170</td>\n",
       "      <td>112</td>\n",
       "      <td>51</td>\n",
       "      <td>365</td>\n",
       "    </tr>\n",
       "    <tr>\n",
       "      <th>9996</th>\n",
       "      <td>194</td>\n",
       "      <td>61</td>\n",
       "      <td>256</td>\n",
       "      <td>89</td>\n",
       "      <td>96</td>\n",
       "      <td>223</td>\n",
       "      <td>84</td>\n",
       "      <td>113</td>\n",
       "      <td>163</td>\n",
       "      <td>241</td>\n",
       "      <td>...</td>\n",
       "      <td>130</td>\n",
       "      <td>259</td>\n",
       "      <td>332</td>\n",
       "      <td>58</td>\n",
       "      <td>205</td>\n",
       "      <td>275</td>\n",
       "      <td>267</td>\n",
       "      <td>193</td>\n",
       "      <td>333</td>\n",
       "      <td>161</td>\n",
       "    </tr>\n",
       "    <tr>\n",
       "      <th>9997</th>\n",
       "      <td>123</td>\n",
       "      <td>364</td>\n",
       "      <td>242</td>\n",
       "      <td>306</td>\n",
       "      <td>222</td>\n",
       "      <td>338</td>\n",
       "      <td>342</td>\n",
       "      <td>249</td>\n",
       "      <td>202</td>\n",
       "      <td>352</td>\n",
       "      <td>...</td>\n",
       "      <td>237</td>\n",
       "      <td>304</td>\n",
       "      <td>248</td>\n",
       "      <td>44</td>\n",
       "      <td>240</td>\n",
       "      <td>199</td>\n",
       "      <td>100</td>\n",
       "      <td>183</td>\n",
       "      <td>316</td>\n",
       "      <td>122</td>\n",
       "    </tr>\n",
       "    <tr>\n",
       "      <th>9998</th>\n",
       "      <td>107</td>\n",
       "      <td>63</td>\n",
       "      <td>201</td>\n",
       "      <td>306</td>\n",
       "      <td>204</td>\n",
       "      <td>303</td>\n",
       "      <td>323</td>\n",
       "      <td>128</td>\n",
       "      <td>263</td>\n",
       "      <td>233</td>\n",
       "      <td>...</td>\n",
       "      <td>81</td>\n",
       "      <td>35</td>\n",
       "      <td>235</td>\n",
       "      <td>6</td>\n",
       "      <td>233</td>\n",
       "      <td>125</td>\n",
       "      <td>310</td>\n",
       "      <td>137</td>\n",
       "      <td>172</td>\n",
       "      <td>349</td>\n",
       "    </tr>\n",
       "    <tr>\n",
       "      <th>9999</th>\n",
       "      <td>43</td>\n",
       "      <td>205</td>\n",
       "      <td>297</td>\n",
       "      <td>137</td>\n",
       "      <td>91</td>\n",
       "      <td>355</td>\n",
       "      <td>151</td>\n",
       "      <td>39</td>\n",
       "      <td>54</td>\n",
       "      <td>158</td>\n",
       "      <td>...</td>\n",
       "      <td>198</td>\n",
       "      <td>261</td>\n",
       "      <td>63</td>\n",
       "      <td>272</td>\n",
       "      <td>181</td>\n",
       "      <td>360</td>\n",
       "      <td>111</td>\n",
       "      <td>141</td>\n",
       "      <td>82</td>\n",
       "      <td>212</td>\n",
       "    </tr>\n",
       "  </tbody>\n",
       "</table>\n",
       "<p>10000 rows × 23 columns</p>\n",
       "</div>"
      ],
      "text/plain": [
       "       0    1    2    3    4    5    6    7    8    9   ...   13   14   15  \\\n",
       "0      68   38  343  109  250   26  225  289  164  175  ...  176  187  319   \n",
       "1     173  112  211  182  141  314  198   17  301  161  ...  157  208  129   \n",
       "2     299  283  320  258  295  102  173  234  221    4  ...   68  191  317   \n",
       "3     331  168  176  303  139   58  192  235  273  280  ...   95   63   99   \n",
       "4     191   24  171  326   43   27  185  347  135  156  ...   70  194  141   \n",
       "...   ...  ...  ...  ...  ...  ...  ...  ...  ...  ...  ...  ...  ...  ...   \n",
       "9995  308   55   69  196  324  191  197   76  298  341  ...  175  296  125   \n",
       "9996  194   61  256   89   96  223   84  113  163  241  ...  130  259  332   \n",
       "9997  123  364  242  306  222  338  342  249  202  352  ...  237  304  248   \n",
       "9998  107   63  201  306  204  303  323  128  263  233  ...   81   35  235   \n",
       "9999   43  205  297  137   91  355  151   39   54  158  ...  198  261   63   \n",
       "\n",
       "       16   17   18   19   20   21   22  \n",
       "0      42  165  338  241  328  291  103  \n",
       "1     212  210    5  109   34  290  150  \n",
       "2     307  312   63  171  175  273  228  \n",
       "3     158   64  192   39   68  253  286  \n",
       "4       1  165  227  231  345   25  360  \n",
       "...   ...  ...  ...  ...  ...  ...  ...  \n",
       "9995  364  355  332  170  112   51  365  \n",
       "9996   58  205  275  267  193  333  161  \n",
       "9997   44  240  199  100  183  316  122  \n",
       "9998    6  233  125  310  137  172  349  \n",
       "9999  272  181  360  111  141   82  212  \n",
       "\n",
       "[10000 rows x 23 columns]"
      ]
     },
     "execution_count": 91,
     "metadata": {},
     "output_type": "execute_result"
    }
   ],
   "source": [
    "df"
   ]
  },
  {
   "cell_type": "code",
   "execution_count": 99,
   "id": "900c237e",
   "metadata": {},
   "outputs": [
    {
     "data": {
      "text/plain": [
       "0       True\n",
       "1       True\n",
       "2       True\n",
       "3       True\n",
       "4       True\n",
       "        ... \n",
       "9995    True\n",
       "9996    True\n",
       "9997    True\n",
       "9998    True\n",
       "9999    True\n",
       "Length: 10000, dtype: bool"
      ]
     },
     "execution_count": 99,
     "metadata": {},
     "output_type": "execute_result"
    }
   ],
   "source": [
    "(df.nunique(axis = 1)>=1)"
   ]
  },
  {
   "cell_type": "code",
   "execution_count": null,
   "id": "fdd24e66",
   "metadata": {},
   "outputs": [],
   "source": [
    "#Couldn't get an equation to work from here."
   ]
  },
  {
   "cell_type": "code",
   "execution_count": 102,
   "id": "2c5a4619",
   "metadata": {},
   "outputs": [],
   "source": [
    "# New approach\n",
    "def bdays(x):\n",
    "    bdays = pd.DataFrame(np.random.randint(1,366, size = (10000,x)))\n",
    "    chance = ((x-(bdays.nunique(axis = 1)))>=1).mean()\n",
    "    return chance"
   ]
  },
  {
   "cell_type": "code",
   "execution_count": 103,
   "id": "f6ec4f88",
   "metadata": {},
   "outputs": [
    {
     "data": {
      "text/plain": [
       "0.5056"
      ]
     },
     "execution_count": 103,
     "metadata": {},
     "output_type": "execute_result"
    }
   ],
   "source": [
    "bdays(23)"
   ]
  },
  {
   "cell_type": "markdown",
   "id": "b9559568",
   "metadata": {},
   "source": [
    "- what if it's 20 People?"
   ]
  },
  {
   "cell_type": "code",
   "execution_count": 104,
   "id": "fcc087bb",
   "metadata": {},
   "outputs": [
    {
     "data": {
      "text/plain": [
       "0.4174"
      ]
     },
     "execution_count": 104,
     "metadata": {},
     "output_type": "execute_result"
    }
   ],
   "source": [
    "bdays(20)"
   ]
  },
  {
   "cell_type": "markdown",
   "id": "3c927415",
   "metadata": {},
   "source": [
    "- What if it's 40?"
   ]
  },
  {
   "cell_type": "code",
   "execution_count": 105,
   "id": "32866db2",
   "metadata": {},
   "outputs": [
    {
     "data": {
      "text/plain": [
       "0.8892"
      ]
     },
     "execution_count": 105,
     "metadata": {},
     "output_type": "execute_result"
    }
   ],
   "source": [
    "bdays(40)"
   ]
  },
  {
   "cell_type": "markdown",
   "id": "5b8225e8",
   "metadata": {},
   "source": [
    "# Mage Duel\n",
    "Let's use what we've learned to play a mage duel!\n",
    "\n",
    "Imagine your wizard has 6d4 health points and you have spells that do 6d4 damage. \"6d4\" means rolling six 4-sided dice and summing the result.\n",
    "\n",
    "Your opposing mage has 4d6 health points and spells that do 4d6. \"4d6\" means rolling four six-sided dice and summing the result.\n",
    "\n",
    "Exercises\n",
    "\n",
    "Simulate mage duels to answer who is the more powerful mage?\n",
    "\n",
    "Before running simulations, do you have a hypothesis of which mage will win? Do you have a hunch? Write it down. This is your first exercise.\n",
    "Simulate 10 mage duels. Is there a clear winner? Run that 10 duel simulation again. Was the answer similar?\n",
    "Do the results change much at 100 duels?\n",
    "Now, simulate 10,000 mage duels. Is there a clear winner?"
   ]
  },
  {
   "cell_type": "code",
   "execution_count": 106,
   "id": "b2eb47cf",
   "metadata": {},
   "outputs": [
    {
     "data": {
      "text/plain": [
       "0.5456"
      ]
     },
     "execution_count": 106,
     "metadata": {},
     "output_type": "execute_result"
    }
   ],
   "source": [
    "health1 = pd.DataFrame(np.random.randint(1,5, size = (10000,6)))\n",
    "damage1 = pd.DataFrame(np.random.randint(1,5, size = (10000,6)))\n",
    "health2 = pd.DataFrame(np.random.randint(1,7, size = (10000,4)))\n",
    "\n",
    "#hypothesis: Mage 1 will win more times than not\n",
    "\n",
    "wins = damage1.sum(axis = 1)>health2.sum(axis=1)\n",
    "wins.mean()\n"
   ]
  },
  {
   "cell_type": "code",
   "execution_count": 107,
   "id": "73cbd69d",
   "metadata": {},
   "outputs": [],
   "source": [
    "def wins(x):\n",
    "    health1 = pd.DataFrame(np.random.randint(1,5, size = (x,6)))\n",
    "    damage1 = pd.DataFrame(np.random.randint(1,5, size = (x,6)))\n",
    "    health2 = pd.DataFrame(np.random.randint(1,7, size = (x,4)))\n",
    "    chances = damage1.sum(axis=1)>health2.sum(axis = 1)\n",
    "    return chances.mean()\n",
    "    "
   ]
  },
  {
   "cell_type": "code",
   "execution_count": 109,
   "id": "3a12f596",
   "metadata": {},
   "outputs": [
    {
     "data": {
      "text/plain": [
       "0.5455"
      ]
     },
     "execution_count": 109,
     "metadata": {},
     "output_type": "execute_result"
    }
   ],
   "source": [
    "wins(10000)"
   ]
  },
  {
   "cell_type": "code",
   "execution_count": 110,
   "id": "6db9529b",
   "metadata": {},
   "outputs": [
    {
     "data": {
      "text/plain": [
       "0.4"
      ]
     },
     "execution_count": 110,
     "metadata": {},
     "output_type": "execute_result"
    }
   ],
   "source": [
    "wins(10)"
   ]
  },
  {
   "cell_type": "code",
   "execution_count": 111,
   "id": "552eda30",
   "metadata": {},
   "outputs": [
    {
     "data": {
      "text/plain": [
       "0.49"
      ]
     },
     "execution_count": 111,
     "metadata": {},
     "output_type": "execute_result"
    }
   ],
   "source": [
    "wins(100)"
   ]
  },
  {
   "cell_type": "code",
   "execution_count": 112,
   "id": "1ea87217",
   "metadata": {},
   "outputs": [
    {
     "data": {
      "text/plain": [
       "0.5426"
      ]
     },
     "execution_count": 112,
     "metadata": {},
     "output_type": "execute_result"
    }
   ],
   "source": [
    "wins(10000)"
   ]
  },
  {
   "cell_type": "code",
   "execution_count": null,
   "id": "1c1b4055",
   "metadata": {},
   "outputs": [],
   "source": []
  }
 ],
 "metadata": {
  "kernelspec": {
   "display_name": "Python 3 (ipykernel)",
   "language": "python",
   "name": "python3"
  },
  "language_info": {
   "codemirror_mode": {
    "name": "ipython",
    "version": 3
   },
   "file_extension": ".py",
   "mimetype": "text/x-python",
   "name": "python",
   "nbconvert_exporter": "python",
   "pygments_lexer": "ipython3",
   "version": "3.9.12"
  }
 },
 "nbformat": 4,
 "nbformat_minor": 5
}
